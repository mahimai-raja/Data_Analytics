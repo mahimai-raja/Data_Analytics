{
 "cells": [
  {
   "cell_type": "code",
   "execution_count": 1,
   "id": "53c089e0",
   "metadata": {},
   "outputs": [],
   "source": [
    "import pandas as pd \n",
    "import numpy as np\n",
    "import statsmodels.api as sm\n"
   ]
  },
  {
   "cell_type": "code",
   "execution_count": 2,
   "id": "2422c3ad",
   "metadata": {},
   "outputs": [
    {
     "data": {
      "text/html": [
       "<div>\n",
       "<style scoped>\n",
       "    .dataframe tbody tr th:only-of-type {\n",
       "        vertical-align: middle;\n",
       "    }\n",
       "\n",
       "    .dataframe tbody tr th {\n",
       "        vertical-align: top;\n",
       "    }\n",
       "\n",
       "    .dataframe thead th {\n",
       "        text-align: right;\n",
       "    }\n",
       "</style>\n",
       "<table border=\"1\" class=\"dataframe\">\n",
       "  <thead>\n",
       "    <tr style=\"text-align: right;\">\n",
       "      <th></th>\n",
       "      <th>Name</th>\n",
       "      <th>Weight</th>\n",
       "      <th>Height</th>\n",
       "      <th>Age</th>\n",
       "    </tr>\n",
       "  </thead>\n",
       "  <tbody>\n",
       "    <tr>\n",
       "      <th>0</th>\n",
       "      <td>Alfred</td>\n",
       "      <td>69.0</td>\n",
       "      <td>112.5</td>\n",
       "      <td>14</td>\n",
       "    </tr>\n",
       "    <tr>\n",
       "      <th>1</th>\n",
       "      <td>Alice</td>\n",
       "      <td>56.5</td>\n",
       "      <td>84.0</td>\n",
       "      <td>13</td>\n",
       "    </tr>\n",
       "    <tr>\n",
       "      <th>2</th>\n",
       "      <td>Barbara</td>\n",
       "      <td>65.3</td>\n",
       "      <td>98.0</td>\n",
       "      <td>13</td>\n",
       "    </tr>\n",
       "    <tr>\n",
       "      <th>3</th>\n",
       "      <td>Carol</td>\n",
       "      <td>62.8</td>\n",
       "      <td>102.5</td>\n",
       "      <td>14</td>\n",
       "    </tr>\n",
       "    <tr>\n",
       "      <th>4</th>\n",
       "      <td>Henry</td>\n",
       "      <td>63.5</td>\n",
       "      <td>102.5</td>\n",
       "      <td>14</td>\n",
       "    </tr>\n",
       "  </tbody>\n",
       "</table>\n",
       "</div>"
      ],
      "text/plain": [
       "      Name  Weight  Height  Age\n",
       "0   Alfred    69.0   112.5   14\n",
       "1    Alice    56.5    84.0   13\n",
       "2  Barbara    65.3    98.0   13\n",
       "3    Carol    62.8   102.5   14\n",
       "4    Henry    63.5   102.5   14"
      ]
     },
     "execution_count": 2,
     "metadata": {},
     "output_type": "execute_result"
    }
   ],
   "source": [
    "data = pd.read_csv('weight_height.csv')\n",
    "data.head()\n"
   ]
  },
  {
   "cell_type": "code",
   "execution_count": 3,
   "id": "9c9aba63",
   "metadata": {},
   "outputs": [
    {
     "data": {
      "text/plain": [
       "19"
      ]
     },
     "execution_count": 3,
     "metadata": {},
     "output_type": "execute_result"
    }
   ],
   "source": [
    "data.value_counts().sum()"
   ]
  },
  {
   "cell_type": "code",
   "execution_count": 4,
   "id": "b29acb08",
   "metadata": {},
   "outputs": [
    {
     "data": {
      "text/plain": [
       "Name      0\n",
       "Weight    0\n",
       "Height    0\n",
       "Age       0\n",
       "dtype: int64"
      ]
     },
     "execution_count": 4,
     "metadata": {},
     "output_type": "execute_result"
    }
   ],
   "source": [
    "data.isnull().sum()"
   ]
  },
  {
   "cell_type": "code",
   "execution_count": 5,
   "id": "c8de08dd",
   "metadata": {},
   "outputs": [],
   "source": [
    "from sklearn.linear_model import LinearRegression"
   ]
  },
  {
   "cell_type": "code",
   "execution_count": 6,
   "id": "11826552",
   "metadata": {},
   "outputs": [],
   "source": [
    "# So we are going to predict height with weight ...\n",
    "\n",
    "Input = data[['Weight']].values\n",
    "Output = data['Height'].values\n",
    "\n",
    "model = LinearRegression(fit_intercept=True)\n",
    "model.fit(Input, Output)\n",
    "\n",
    "prediction = model.predict(Input)"
   ]
  },
  {
   "cell_type": "code",
   "execution_count": 7,
   "id": "26da2e4a",
   "metadata": {},
   "outputs": [
    {
     "data": {
      "image/png": "[encoded data removed]",
      "text/plain": [
       "<Figure size 432x288 with 1 Axes>"
      ]
     },
     "metadata": {
      "needs_background": "light"
     },
     "output_type": "display_data"
    }
   ],
   "source": [
    "import matplotlib.pyplot as plt \n",
    "\n",
    "plt.scatter(Input, Output, color='black')\n",
    "plt.plot(Input, prediction, color='red', linewidth=3)\n",
    "plt.title(\"Height - Weight Prediction\")\n",
    "plt.xlabel('Weight in pounds')\n",
    "plt.ylabel('Height in Centimeter')\n",
    "plt.show()"
   ]
  },
  {
   "cell_type": "markdown",
   "id": "99634b29",
   "metadata": {},
   "source": [
    "# Mathematical Evaluation of model"
   ]
  },
  {
   "cell_type": "code",
   "execution_count": 8,
   "id": "a742055c",
   "metadata": {},
   "outputs": [
    {
     "name": "stdout",
     "output_type": "stream",
     "text": [
      "[3.89903027]\n"
     ]
    }
   ],
   "source": [
    "# Coefficient\n",
    "\n",
    "print(model.coef_)"
   ]
  },
  {
   "cell_type": "code",
   "execution_count": 9,
   "id": "ff2a7809",
   "metadata": {},
   "outputs": [
    {
     "name": "stdout",
     "output_type": "stream",
     "text": [
      "-143.02691843935338\n"
     ]
    }
   ],
   "source": [
    "# Intercept\n",
    "\n",
    "print(model.intercept_)"
   ]
  },
  {
   "cell_type": "code",
   "execution_count": 10,
   "id": "0d602c33",
   "metadata": {},
   "outputs": [
    {
     "name": "stdout",
     "output_type": "stream",
     "text": [
      "0.7705068427159738\n"
     ]
    }
   ],
   "source": [
    "# R^2 \n",
    "\n",
    "print(model.score(Input, Output))"
   ]
  },
  {
   "cell_type": "code",
   "execution_count": 11,
   "id": "1752e14a",
   "metadata": {},
   "outputs": [
    {
     "name": "stdout",
     "output_type": "stream",
     "text": [
      "10.618969430290756\n"
     ]
    }
   ],
   "source": [
    "import math\n",
    "from sklearn import metrics\n",
    "\n",
    "# Root Mean Square \n",
    "\n",
    "print(math.sqrt(metrics.mean_squared_error(Output, prediction)))"
   ]
  },
  {
   "cell_type": "markdown",
   "id": "470b04ee",
   "metadata": {},
   "source": [
    "# Statsmodel"
   ]
  },
  {
   "cell_type": "code",
   "execution_count": 12,
   "id": "8ace0dfe",
   "metadata": {},
   "outputs": [
    {
     "name": "stderr",
     "output_type": "stream",
     "text": [
      "/Users/mahimairaja/opt/anaconda3/envs/dlearn/lib/python3.7/site-packages/scipy/stats/stats.py:1542: UserWarning: kurtosistest only valid for n>=20 ... continuing anyway, n=19\n",
      "  \"anyway, n=%i\" % int(n))\n"
     ]
    },
    {
     "data": {
      "text/html": [
       "<table class=\"simpletable\">\n",
       "<caption>OLS Regression Results</caption>\n",
       "<tr>\n",
       "  <th>Dep. Variable:</th>         <td>Weight</td>      <th>  R-squared:         </th> <td>   0.771</td>\n",
       "</tr>\n",
       "<tr>\n",
       "  <th>Model:</th>                   <td>OLS</td>       <th>  Adj. R-squared:    </th> <td>   0.757</td>\n",
       "</tr>\n",
       "<tr>\n",
       "  <th>Method:</th>             <td>Least Squares</td>  <th>  F-statistic:       </th> <td>   57.08</td>\n",
       "</tr>\n",
       "<tr>\n",
       "  <th>Date:</th>             <td>Sun, 12 Jun 2022</td> <th>  Prob (F-statistic):</th> <td>7.89e-07</td>\n",
       "</tr>\n",
       "<tr>\n",
       "  <th>Time:</th>                 <td>10:16:35</td>     <th>  Log-Likelihood:    </th> <td> -43.519</td>\n",
       "</tr>\n",
       "<tr>\n",
       "  <th>No. Observations:</th>      <td>    19</td>      <th>  AIC:               </th> <td>   91.04</td>\n",
       "</tr>\n",
       "<tr>\n",
       "  <th>Df Residuals:</th>          <td>    17</td>      <th>  BIC:               </th> <td>   92.93</td>\n",
       "</tr>\n",
       "<tr>\n",
       "  <th>Df Model:</th>              <td>     1</td>      <th>                     </th>     <td> </td>   \n",
       "</tr>\n",
       "<tr>\n",
       "  <th>Covariance Type:</th>      <td>nonrobust</td>    <th>                     </th>     <td> </td>   \n",
       "</tr>\n",
       "</table>\n",
       "<table class=\"simpletable\">\n",
       "<tr>\n",
       "     <td></td>       <th>coef</th>     <th>std err</th>      <th>t</th>      <th>P>|t|</th>  <th>[0.025</th>    <th>0.975]</th>  \n",
       "</tr>\n",
       "<tr>\n",
       "  <th>const</th>  <td>   42.5701</td> <td>    2.680</td> <td>   15.885</td> <td> 0.000</td> <td>   36.916</td> <td>   48.224</td>\n",
       "</tr>\n",
       "<tr>\n",
       "  <th>Height</th> <td>    0.1976</td> <td>    0.026</td> <td>    7.555</td> <td> 0.000</td> <td>    0.142</td> <td>    0.253</td>\n",
       "</tr>\n",
       "</table>\n",
       "<table class=\"simpletable\">\n",
       "<tr>\n",
       "  <th>Omnibus:</th>       <td> 3.056</td> <th>  Durbin-Watson:     </th> <td>   2.643</td>\n",
       "</tr>\n",
       "<tr>\n",
       "  <th>Prob(Omnibus):</th> <td> 0.217</td> <th>  Jarque-Bera (JB):  </th> <td>   1.596</td>\n",
       "</tr>\n",
       "<tr>\n",
       "  <th>Skew:</th>          <td> 0.408</td> <th>  Prob(JB):          </th> <td>   0.450</td>\n",
       "</tr>\n",
       "<tr>\n",
       "  <th>Kurtosis:</th>      <td> 1.837</td> <th>  Cond. No.          </th> <td>    474.</td>\n",
       "</tr>\n",
       "</table><br/><br/>Notes:<br/>[1] Standard Errors assume that the covariance matrix of the errors is correctly specified."
      ],
      "text/plain": [
       "<class 'statsmodels.iolib.summary.Summary'>\n",
       "\"\"\"\n",
       "                            OLS Regression Results                            \n",
       "==============================================================================\n",
       "Dep. Variable:                 Weight   R-squared:                       0.771\n",
       "Model:                            OLS   Adj. R-squared:                  0.757\n",
       "Method:                 Least Squares   F-statistic:                     57.08\n",
       "Date:                Sun, 12 Jun 2022   Prob (F-statistic):           7.89e-07\n",
       "Time:                        10:16:35   Log-Likelihood:                -43.519\n",
       "No. Observations:                  19   AIC:                             91.04\n",
       "Df Residuals:                      17   BIC:                             92.93\n",
       "Df Model:                           1                                         \n",
       "Covariance Type:            nonrobust                                         \n",
       "==============================================================================\n",
       "                 coef    std err          t      P>|t|      [0.025      0.975]\n",
       "------------------------------------------------------------------------------\n",
       "const         42.5701      2.680     15.885      0.000      36.916      48.224\n",
       "Height         0.1976      0.026      7.555      0.000       0.142       0.253\n",
       "==============================================================================\n",
       "Omnibus:                        3.056   Durbin-Watson:                   2.643\n",
       "Prob(Omnibus):                  0.217   Jarque-Bera (JB):                1.596\n",
       "Skew:                           0.408   Prob(JB):                        0.450\n",
       "Kurtosis:                       1.837   Cond. No.                         474.\n",
       "==============================================================================\n",
       "\n",
       "Notes:\n",
       "[1] Standard Errors assume that the covariance matrix of the errors is correctly specified.\n",
       "\"\"\""
      ]
     },
     "execution_count": 12,
     "metadata": {},
     "output_type": "execute_result"
    }
   ],
   "source": [
    "x = data['Height']\n",
    "y = data['Weight']\n",
    "\n",
    "x2 = sm.add_constant(x)\n",
    "ols = sm.OLS(y, x2)\n",
    "result = ols.fit()\n",
    "\n",
    "result.summary()"
   ]
  },
  {
   "cell_type": "markdown",
   "id": "524af929",
   "metadata": {},
   "source": [
    "# histogram \n",
    "        Frequency plot"
   ]
  },
  {
   "cell_type": "code",
   "execution_count": 16,
   "id": "bb10b642",
   "metadata": {},
   "outputs": [],
   "source": [
    "import scipy.stats as stats"
   ]
  },
  {
   "cell_type": "code",
   "execution_count": 18,
   "id": "029f547a",
   "metadata": {},
   "outputs": [
    {
     "data": {
      "image/png": "[encoded data removed]",
      "text/plain": [
       "<Figure size 432x288 with 1 Axes>"
      ]
     },
     "metadata": {
      "needs_background": "light"
     },
     "output_type": "display_data"
    }
   ],
   "source": [
    "plt.figure(0)\n",
    "data['Height'].hist()\n",
    "plt.show()"
   ]
  },
  {
   "cell_type": "code",
   "execution_count": 21,
   "id": "8b2875e9",
   "metadata": {},
   "outputs": [
    {
     "data": {
      "image/png": "[encoded data removed]",
      "text/plain": [
       "<Figure size 432x288 with 1 Axes>"
      ]
     },
     "metadata": {
      "needs_background": "light"
     },
     "output_type": "display_data"
    }
   ],
   "source": [
    "plt.figure(2)\n",
    "stats.probplot(data['Height'], dist='norm', plot=plt)\n",
    "plt.show()"
   ]
  },
  {
   "cell_type": "code",
   "execution_count": 22,
   "id": "1fad56ba",
   "metadata": {},
   "outputs": [
    {
     "data": {
      "image/png": "[encoded data removed]",
      "text/plain": [
       "<Figure size 432x288 with 1 Axes>"
      ]
     },
     "metadata": {
      "needs_background": "light"
     },
     "output_type": "display_data"
    }
   ],
   "source": [
    "plt.figure(1)\n",
    "data['Weight'].hist()\n",
    "plt.show()"
   ]
  },
  {
   "cell_type": "code",
   "execution_count": 23,
   "id": "317b6ba1",
   "metadata": {},
   "outputs": [
    {
     "data": {
      "image/png": "[encoded data removed]",
      "text/plain": [
       "<Figure size 432x288 with 1 Axes>"
      ]
     },
     "metadata": {
      "needs_background": "light"
     },
     "output_type": "display_data"
    }
   ],
   "source": [
    "plt.figure(3)\n",
    "stats.probplot(data['Weight'], dist='norm', plot=plt)\n",
    "plt.show()"
   ]
  },
  {
   "cell_type": "code",
   "execution_count": 24,
   "id": "a58008fd",
   "metadata": {},
   "outputs": [],
   "source": [
    "from statsmodels.sandbox.regression.predstd import wls_prediction_std"
   ]
  },
  {
   "cell_type": "code",
   "execution_count": 26,
   "id": "f88d6190",
   "metadata": {},
   "outputs": [
    {
     "name": "stderr",
     "output_type": "stream",
     "text": [
      "/Users/mahimairaja/opt/anaconda3/envs/dlearn/lib/python3.7/site-packages/scipy/stats/stats.py:1542: UserWarning: kurtosistest only valid for n>=20 ... continuing anyway, n=19\n",
      "  \"anyway, n=%i\" % int(n))\n"
     ]
    },
    {
     "data": {
      "text/html": [
       "<table class=\"simpletable\">\n",
       "<caption>OLS Regression Results</caption>\n",
       "<tr>\n",
       "  <th>Dep. Variable:</th>         <td>Weight</td>      <th>  R-squared:         </th> <td>   0.771</td>\n",
       "</tr>\n",
       "<tr>\n",
       "  <th>Model:</th>                   <td>OLS</td>       <th>  Adj. R-squared:    </th> <td>   0.757</td>\n",
       "</tr>\n",
       "<tr>\n",
       "  <th>Method:</th>             <td>Least Squares</td>  <th>  F-statistic:       </th> <td>   57.08</td>\n",
       "</tr>\n",
       "<tr>\n",
       "  <th>Date:</th>             <td>Sun, 12 Jun 2022</td> <th>  Prob (F-statistic):</th> <td>7.89e-07</td>\n",
       "</tr>\n",
       "<tr>\n",
       "  <th>Time:</th>                 <td>10:23:53</td>     <th>  Log-Likelihood:    </th> <td> -43.519</td>\n",
       "</tr>\n",
       "<tr>\n",
       "  <th>No. Observations:</th>      <td>    19</td>      <th>  AIC:               </th> <td>   91.04</td>\n",
       "</tr>\n",
       "<tr>\n",
       "  <th>Df Residuals:</th>          <td>    17</td>      <th>  BIC:               </th> <td>   92.93</td>\n",
       "</tr>\n",
       "<tr>\n",
       "  <th>Df Model:</th>              <td>     1</td>      <th>                     </th>     <td> </td>   \n",
       "</tr>\n",
       "<tr>\n",
       "  <th>Covariance Type:</th>      <td>nonrobust</td>    <th>                     </th>     <td> </td>   \n",
       "</tr>\n",
       "</table>\n",
       "<table class=\"simpletable\">\n",
       "<tr>\n",
       "     <td></td>       <th>coef</th>     <th>std err</th>      <th>t</th>      <th>P>|t|</th>  <th>[0.025</th>    <th>0.975]</th>  \n",
       "</tr>\n",
       "<tr>\n",
       "  <th>const</th>  <td>   42.5701</td> <td>    2.680</td> <td>   15.885</td> <td> 0.000</td> <td>   36.916</td> <td>   48.224</td>\n",
       "</tr>\n",
       "<tr>\n",
       "  <th>Height</th> <td>    0.1976</td> <td>    0.026</td> <td>    7.555</td> <td> 0.000</td> <td>    0.142</td> <td>    0.253</td>\n",
       "</tr>\n",
       "</table>\n",
       "<table class=\"simpletable\">\n",
       "<tr>\n",
       "  <th>Omnibus:</th>       <td> 3.056</td> <th>  Durbin-Watson:     </th> <td>   2.643</td>\n",
       "</tr>\n",
       "<tr>\n",
       "  <th>Prob(Omnibus):</th> <td> 0.217</td> <th>  Jarque-Bera (JB):  </th> <td>   1.596</td>\n",
       "</tr>\n",
       "<tr>\n",
       "  <th>Skew:</th>          <td> 0.408</td> <th>  Prob(JB):          </th> <td>   0.450</td>\n",
       "</tr>\n",
       "<tr>\n",
       "  <th>Kurtosis:</th>      <td> 1.837</td> <th>  Cond. No.          </th> <td>    474.</td>\n",
       "</tr>\n",
       "</table><br/><br/>Notes:<br/>[1] Standard Errors assume that the covariance matrix of the errors is correctly specified."
      ],
      "text/plain": [
       "<class 'statsmodels.iolib.summary.Summary'>\n",
       "\"\"\"\n",
       "                            OLS Regression Results                            \n",
       "==============================================================================\n",
       "Dep. Variable:                 Weight   R-squared:                       0.771\n",
       "Model:                            OLS   Adj. R-squared:                  0.757\n",
       "Method:                 Least Squares   F-statistic:                     57.08\n",
       "Date:                Sun, 12 Jun 2022   Prob (F-statistic):           7.89e-07\n",
       "Time:                        10:23:53   Log-Likelihood:                -43.519\n",
       "No. Observations:                  19   AIC:                             91.04\n",
       "Df Residuals:                      17   BIC:                             92.93\n",
       "Df Model:                           1                                         \n",
       "Covariance Type:            nonrobust                                         \n",
       "==============================================================================\n",
       "                 coef    std err          t      P>|t|      [0.025      0.975]\n",
       "------------------------------------------------------------------------------\n",
       "const         42.5701      2.680     15.885      0.000      36.916      48.224\n",
       "Height         0.1976      0.026      7.555      0.000       0.142       0.253\n",
       "==============================================================================\n",
       "Omnibus:                        3.056   Durbin-Watson:                   2.643\n",
       "Prob(Omnibus):                  0.217   Jarque-Bera (JB):                1.596\n",
       "Skew:                           0.408   Prob(JB):                        0.450\n",
       "Kurtosis:                       1.837   Cond. No.                         474.\n",
       "==============================================================================\n",
       "\n",
       "Notes:\n",
       "[1] Standard Errors assume that the covariance matrix of the errors is correctly specified.\n",
       "\"\"\""
      ]
     },
     "execution_count": 26,
     "metadata": {},
     "output_type": "execute_result"
    }
   ],
   "source": [
    "x = data['Height']\n",
    "y = data['Weight']\n",
    "\n",
    "x2 = sm.add_constant(x)\n",
    "ols = sm.OLS(y, x2)\n",
    "est = ols.fit()\n",
    "est.summary() # this gives you a very nicely and comprehensive formatted report"
   ]
  },
  {
   "cell_type": "code",
   "execution_count": 27,
   "id": "df8bac64",
   "metadata": {},
   "outputs": [
    {
     "data": {
      "text/html": [
       "<div>\n",
       "<style scoped>\n",
       "    .dataframe tbody tr th:only-of-type {\n",
       "        vertical-align: middle;\n",
       "    }\n",
       "\n",
       "    .dataframe tbody tr th {\n",
       "        vertical-align: top;\n",
       "    }\n",
       "\n",
       "    .dataframe thead th {\n",
       "        text-align: right;\n",
       "    }\n",
       "</style>\n",
       "<table border=\"1\" class=\"dataframe\">\n",
       "  <thead>\n",
       "    <tr style=\"text-align: right;\">\n",
       "      <th></th>\n",
       "      <th>x</th>\n",
       "      <th>data</th>\n",
       "      <th>fitted</th>\n",
       "      <th>lower</th>\n",
       "      <th>upper</th>\n",
       "    </tr>\n",
       "  </thead>\n",
       "  <tbody>\n",
       "    <tr>\n",
       "      <th>0</th>\n",
       "      <td>112.5</td>\n",
       "      <td>69.0</td>\n",
       "      <td>64.801829</td>\n",
       "      <td>59.287912</td>\n",
       "      <td>70.315746</td>\n",
       "    </tr>\n",
       "    <tr>\n",
       "      <th>1</th>\n",
       "      <td>84.0</td>\n",
       "      <td>56.5</td>\n",
       "      <td>59.169802</td>\n",
       "      <td>53.627993</td>\n",
       "      <td>64.711611</td>\n",
       "    </tr>\n",
       "    <tr>\n",
       "      <th>2</th>\n",
       "      <td>98.0</td>\n",
       "      <td>65.3</td>\n",
       "      <td>61.936412</td>\n",
       "      <td>56.464492</td>\n",
       "      <td>67.408332</td>\n",
       "    </tr>\n",
       "    <tr>\n",
       "      <th>3</th>\n",
       "      <td>102.5</td>\n",
       "      <td>62.8</td>\n",
       "      <td>62.825679</td>\n",
       "      <td>57.353199</td>\n",
       "      <td>68.298160</td>\n",
       "    </tr>\n",
       "    <tr>\n",
       "      <th>4</th>\n",
       "      <td>102.5</td>\n",
       "      <td>63.5</td>\n",
       "      <td>62.825679</td>\n",
       "      <td>57.353199</td>\n",
       "      <td>68.298160</td>\n",
       "    </tr>\n",
       "    <tr>\n",
       "      <th>5</th>\n",
       "      <td>83.0</td>\n",
       "      <td>57.3</td>\n",
       "      <td>58.972187</td>\n",
       "      <td>53.421303</td>\n",
       "      <td>64.523071</td>\n",
       "    </tr>\n",
       "    <tr>\n",
       "      <th>6</th>\n",
       "      <td>84.5</td>\n",
       "      <td>59.8</td>\n",
       "      <td>59.268609</td>\n",
       "      <td>53.731137</td>\n",
       "      <td>64.806081</td>\n",
       "    </tr>\n",
       "    <tr>\n",
       "      <th>7</th>\n",
       "      <td>112.5</td>\n",
       "      <td>62.5</td>\n",
       "      <td>64.801829</td>\n",
       "      <td>59.287912</td>\n",
       "      <td>70.315746</td>\n",
       "    </tr>\n",
       "    <tr>\n",
       "      <th>8</th>\n",
       "      <td>84.0</td>\n",
       "      <td>62.5</td>\n",
       "      <td>59.169802</td>\n",
       "      <td>53.627993</td>\n",
       "      <td>64.711611</td>\n",
       "    </tr>\n",
       "    <tr>\n",
       "      <th>9</th>\n",
       "      <td>99.5</td>\n",
       "      <td>59.0</td>\n",
       "      <td>62.232834</td>\n",
       "      <td>56.761980</td>\n",
       "      <td>67.703689</td>\n",
       "    </tr>\n",
       "    <tr>\n",
       "      <th>10</th>\n",
       "      <td>50.5</td>\n",
       "      <td>51.3</td>\n",
       "      <td>52.549700</td>\n",
       "      <td>46.434160</td>\n",
       "      <td>58.665239</td>\n",
       "    </tr>\n",
       "    <tr>\n",
       "      <th>11</th>\n",
       "      <td>90.0</td>\n",
       "      <td>64.3</td>\n",
       "      <td>60.355492</td>\n",
       "      <td>54.856804</td>\n",
       "      <td>65.854180</td>\n",
       "    </tr>\n",
       "    <tr>\n",
       "      <th>12</th>\n",
       "      <td>77.0</td>\n",
       "      <td>56.3</td>\n",
       "      <td>57.786497</td>\n",
       "      <td>52.170073</td>\n",
       "      <td>63.402921</td>\n",
       "    </tr>\n",
       "    <tr>\n",
       "      <th>13</th>\n",
       "      <td>112.0</td>\n",
       "      <td>66.5</td>\n",
       "      <td>64.703022</td>\n",
       "      <td>59.192482</td>\n",
       "      <td>70.213562</td>\n",
       "    </tr>\n",
       "    <tr>\n",
       "      <th>14</th>\n",
       "      <td>150.0</td>\n",
       "      <td>72.0</td>\n",
       "      <td>72.212391</td>\n",
       "      <td>66.085778</td>\n",
       "      <td>78.339005</td>\n",
       "    </tr>\n",
       "    <tr>\n",
       "      <th>15</th>\n",
       "      <td>128.0</td>\n",
       "      <td>64.8</td>\n",
       "      <td>67.864862</td>\n",
       "      <td>62.180438</td>\n",
       "      <td>73.549285</td>\n",
       "    </tr>\n",
       "    <tr>\n",
       "      <th>16</th>\n",
       "      <td>133.0</td>\n",
       "      <td>67.0</td>\n",
       "      <td>68.852937</td>\n",
       "      <td>63.087455</td>\n",
       "      <td>74.618418</td>\n",
       "    </tr>\n",
       "    <tr>\n",
       "      <th>17</th>\n",
       "      <td>85.0</td>\n",
       "      <td>57.5</td>\n",
       "      <td>59.367417</td>\n",
       "      <td>53.834147</td>\n",
       "      <td>64.900686</td>\n",
       "    </tr>\n",
       "    <tr>\n",
       "      <th>18</th>\n",
       "      <td>112.0</td>\n",
       "      <td>66.5</td>\n",
       "      <td>64.703022</td>\n",
       "      <td>59.192482</td>\n",
       "      <td>70.213562</td>\n",
       "    </tr>\n",
       "  </tbody>\n",
       "</table>\n",
       "</div>"
      ],
      "text/plain": [
       "        x  data     fitted      lower      upper\n",
       "0   112.5  69.0  64.801829  59.287912  70.315746\n",
       "1    84.0  56.5  59.169802  53.627993  64.711611\n",
       "2    98.0  65.3  61.936412  56.464492  67.408332\n",
       "3   102.5  62.8  62.825679  57.353199  68.298160\n",
       "4   102.5  63.5  62.825679  57.353199  68.298160\n",
       "5    83.0  57.3  58.972187  53.421303  64.523071\n",
       "6    84.5  59.8  59.268609  53.731137  64.806081\n",
       "7   112.5  62.5  64.801829  59.287912  70.315746\n",
       "8    84.0  62.5  59.169802  53.627993  64.711611\n",
       "9    99.5  59.0  62.232834  56.761980  67.703689\n",
       "10   50.5  51.3  52.549700  46.434160  58.665239\n",
       "11   90.0  64.3  60.355492  54.856804  65.854180\n",
       "12   77.0  56.3  57.786497  52.170073  63.402921\n",
       "13  112.0  66.5  64.703022  59.192482  70.213562\n",
       "14  150.0  72.0  72.212391  66.085778  78.339005\n",
       "15  128.0  64.8  67.864862  62.180438  73.549285\n",
       "16  133.0  67.0  68.852937  63.087455  74.618418\n",
       "17   85.0  57.5  59.367417  53.834147  64.900686\n",
       "18  112.0  66.5  64.703022  59.192482  70.213562"
      ]
     },
     "execution_count": 27,
     "metadata": {},
     "output_type": "execute_result"
    }
   ],
   "source": [
    "prstd, iv_l, iv_u = wls_prediction_std(est)\n",
    "\n",
    "clt = pd.concat([x, y, est.fittedvalues, iv_l, iv_u],keys=['x', 'data', 'fitted', 'lower', 'upper'], axis=1)\n",
    "clt"
   ]
  },
  {
   "cell_type": "code",
   "execution_count": 28,
   "id": "fe5a4b1f",
   "metadata": {},
   "outputs": [
    {
     "data": {
      "image/png": "[encoded data removed]",
      "text/plain": [
       "<Figure size 576x432 with 1 Axes>"
      ]
     },
     "metadata": {
      "needs_background": "light"
     },
     "output_type": "display_data"
    }
   ],
   "source": [
    "fig, ax = plt.subplots(figsize=(8,6))\n",
    "\n",
    "ax.plot(x, y, 'o', label=\"data\")\n",
    "ax.plot(x, est.fittedvalues, 'r--.', label=\"OLS\")\n",
    "ax.plot(x, iv_u, 'r--')\n",
    "ax.plot(x, iv_l, 'r--')\n",
    "ax.legend(loc='best');"
   ]
  },
  {
   "cell_type": "code",
   "execution_count": null,
   "id": "ddae7216",
   "metadata": {},
   "outputs": [],
   "source": []
  }
 ],
 "metadata": {
  "kernelspec": {
   "display_name": "Python 3 (ipykernel)",
   "language": "python",
   "name": "python3"
  },
  "language_info": {
   "codemirror_mode": {
    "name": "ipython",
    "version": 3
   },
   "file_extension": ".py",
   "mimetype": "text/x-python",
   "name": "python",
   "nbconvert_exporter": "python",
   "pygments_lexer": "ipython3",
   "version": "3.7.12"
  }
 },
 "nbformat": 4,
 "nbformat_minor": 5
}
