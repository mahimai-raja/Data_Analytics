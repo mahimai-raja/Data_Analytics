{
 "cells": [
  {
   "cell_type": "markdown",
   "id": "92520dde",
   "metadata": {},
   "source": [
    "# Multple Linear Regression"
   ]
  },
  {
   "cell_type": "code",
   "execution_count": 1,
   "id": "1e31275d",
   "metadata": {},
   "outputs": [],
   "source": [
    "import pandas as pd\n",
    "import numpy as np\n",
    "import matplotlib.pyplot as plt\n",
    "from sklearn import feature_selection\n",
    "from sklearn.linear_model import LinearRegression"
   ]
  },
  {
   "cell_type": "code",
   "execution_count": 2,
   "id": "bd6701c8",
   "metadata": {},
   "outputs": [
    {
     "data": {
      "text/html": [
       "<div>\n",
       "<style scoped>\n",
       "    .dataframe tbody tr th:only-of-type {\n",
       "        vertical-align: middle;\n",
       "    }\n",
       "\n",
       "    .dataframe tbody tr th {\n",
       "        vertical-align: top;\n",
       "    }\n",
       "\n",
       "    .dataframe thead th {\n",
       "        text-align: right;\n",
       "    }\n",
       "</style>\n",
       "<table border=\"1\" class=\"dataframe\">\n",
       "  <thead>\n",
       "    <tr style=\"text-align: right;\">\n",
       "      <th></th>\n",
       "      <th>Type</th>\n",
       "      <th>MedianSAT</th>\n",
       "      <th>AcceptanceRate</th>\n",
       "      <th>ExpendituresPerStudent</th>\n",
       "      <th>Top10PercentHS</th>\n",
       "      <th>GraduationPercent</th>\n",
       "    </tr>\n",
       "    <tr>\n",
       "      <th>School</th>\n",
       "      <th></th>\n",
       "      <th></th>\n",
       "      <th></th>\n",
       "      <th></th>\n",
       "      <th></th>\n",
       "      <th></th>\n",
       "    </tr>\n",
       "  </thead>\n",
       "  <tbody>\n",
       "    <tr>\n",
       "      <th>Amherst</th>\n",
       "      <td>Lib Arts</td>\n",
       "      <td>1315</td>\n",
       "      <td>0.22</td>\n",
       "      <td>26636</td>\n",
       "      <td>85</td>\n",
       "      <td>93</td>\n",
       "    </tr>\n",
       "    <tr>\n",
       "      <th>Barnard</th>\n",
       "      <td>Lib Arts</td>\n",
       "      <td>1220</td>\n",
       "      <td>0.53</td>\n",
       "      <td>17653</td>\n",
       "      <td>69</td>\n",
       "      <td>80</td>\n",
       "    </tr>\n",
       "    <tr>\n",
       "      <th>Bates</th>\n",
       "      <td>Lib Arts</td>\n",
       "      <td>1240</td>\n",
       "      <td>0.36</td>\n",
       "      <td>17554</td>\n",
       "      <td>58</td>\n",
       "      <td>88</td>\n",
       "    </tr>\n",
       "    <tr>\n",
       "      <th>Berkeley</th>\n",
       "      <td>University</td>\n",
       "      <td>1176</td>\n",
       "      <td>0.37</td>\n",
       "      <td>23665</td>\n",
       "      <td>95</td>\n",
       "      <td>68</td>\n",
       "    </tr>\n",
       "    <tr>\n",
       "      <th>Bowdoin</th>\n",
       "      <td>Lib Arts</td>\n",
       "      <td>1300</td>\n",
       "      <td>0.24</td>\n",
       "      <td>25703</td>\n",
       "      <td>78</td>\n",
       "      <td>90</td>\n",
       "    </tr>\n",
       "  </tbody>\n",
       "</table>\n",
       "</div>"
      ],
      "text/plain": [
       "                Type  MedianSAT  AcceptanceRate  ExpendituresPerStudent  \\\n",
       "School                                                                    \n",
       "Amherst     Lib Arts       1315            0.22                   26636   \n",
       "Barnard     Lib Arts       1220            0.53                   17653   \n",
       "Bates       Lib Arts       1240            0.36                   17554   \n",
       "Berkeley  University       1176            0.37                   23665   \n",
       "Bowdoin     Lib Arts       1300            0.24                   25703   \n",
       "\n",
       "          Top10PercentHS  GraduationPercent  \n",
       "School                                       \n",
       "Amherst               85                 93  \n",
       "Barnard               69                 80  \n",
       "Bates                 58                 88  \n",
       "Berkeley              95                 68  \n",
       "Bowdoin               78                 90  "
      ]
     },
     "execution_count": 2,
     "metadata": {},
     "output_type": "execute_result"
    }
   ],
   "source": [
    "data = pd.read_csv('colleges.csv', index_col=0)\n",
    "data.head()"
   ]
  },
  {
   "cell_type": "code",
   "execution_count": 3,
   "id": "8bdcddb1",
   "metadata": {},
   "outputs": [
    {
     "data": {
      "text/html": [
       "<div>\n",
       "<style scoped>\n",
       "    .dataframe tbody tr th:only-of-type {\n",
       "        vertical-align: middle;\n",
       "    }\n",
       "\n",
       "    .dataframe tbody tr th {\n",
       "        vertical-align: top;\n",
       "    }\n",
       "\n",
       "    .dataframe thead th {\n",
       "        text-align: right;\n",
       "    }\n",
       "</style>\n",
       "<table border=\"1\" class=\"dataframe\">\n",
       "  <thead>\n",
       "    <tr style=\"text-align: right;\">\n",
       "      <th></th>\n",
       "      <th>Type</th>\n",
       "      <th>MedianSAT</th>\n",
       "      <th>AcceptanceRate</th>\n",
       "      <th>ExpendituresPerStudent</th>\n",
       "      <th>Top10PercentHS</th>\n",
       "      <th>GraduationPercent</th>\n",
       "    </tr>\n",
       "    <tr>\n",
       "      <th>School</th>\n",
       "      <th></th>\n",
       "      <th></th>\n",
       "      <th></th>\n",
       "      <th></th>\n",
       "      <th></th>\n",
       "      <th></th>\n",
       "    </tr>\n",
       "  </thead>\n",
       "  <tbody>\n",
       "    <tr>\n",
       "      <th>Amherst</th>\n",
       "      <td>Lib Arts</td>\n",
       "      <td>1315</td>\n",
       "      <td>0.22</td>\n",
       "      <td>26636</td>\n",
       "      <td>85</td>\n",
       "      <td>93</td>\n",
       "    </tr>\n",
       "    <tr>\n",
       "      <th>Barnard</th>\n",
       "      <td>Lib Arts</td>\n",
       "      <td>1220</td>\n",
       "      <td>0.53</td>\n",
       "      <td>17653</td>\n",
       "      <td>69</td>\n",
       "      <td>80</td>\n",
       "    </tr>\n",
       "    <tr>\n",
       "      <th>Bates</th>\n",
       "      <td>Lib Arts</td>\n",
       "      <td>1240</td>\n",
       "      <td>0.36</td>\n",
       "      <td>17554</td>\n",
       "      <td>58</td>\n",
       "      <td>88</td>\n",
       "    </tr>\n",
       "    <tr>\n",
       "      <th>Berkeley</th>\n",
       "      <td>University</td>\n",
       "      <td>1176</td>\n",
       "      <td>0.37</td>\n",
       "      <td>23665</td>\n",
       "      <td>95</td>\n",
       "      <td>68</td>\n",
       "    </tr>\n",
       "    <tr>\n",
       "      <th>Bowdoin</th>\n",
       "      <td>Lib Arts</td>\n",
       "      <td>1300</td>\n",
       "      <td>0.24</td>\n",
       "      <td>25703</td>\n",
       "      <td>78</td>\n",
       "      <td>90</td>\n",
       "    </tr>\n",
       "  </tbody>\n",
       "</table>\n",
       "</div>"
      ],
      "text/plain": [
       "                Type  MedianSAT  AcceptanceRate  ExpendituresPerStudent  \\\n",
       "School                                                                    \n",
       "Amherst     Lib Arts       1315            0.22                   26636   \n",
       "Barnard     Lib Arts       1220            0.53                   17653   \n",
       "Bates       Lib Arts       1240            0.36                   17554   \n",
       "Berkeley  University       1176            0.37                   23665   \n",
       "Bowdoin     Lib Arts       1300            0.24                   25703   \n",
       "\n",
       "          Top10PercentHS  GraduationPercent  \n",
       "School                                       \n",
       "Amherst               85                 93  \n",
       "Barnard               69                 80  \n",
       "Bates                 58                 88  \n",
       "Berkeley              95                 68  \n",
       "Bowdoin               78                 90  "
      ]
     },
     "execution_count": 3,
     "metadata": {},
     "output_type": "execute_result"
    }
   ],
   "source": [
    "data = pd.read_csv('colleges.csv', index_col=0)\n",
    "data.head()"
   ]
  },
  {
   "cell_type": "code",
   "execution_count": 4,
   "id": "a3acc649",
   "metadata": {},
   "outputs": [],
   "source": [
    "data = data.drop('Type', axis=1)\n",
    "independent = data.drop('GraduationPercent', axis=1)\n",
    "\n",
    "Input = independent.values\n",
    "Output = data.GraduationPercent.values"
   ]
  },
  {
   "cell_type": "code",
   "execution_count": 5,
   "id": "d1e88cd0",
   "metadata": {},
   "outputs": [
    {
     "name": "stdout",
     "output_type": "stream",
     "text": [
      "                        MedianSAT  AcceptanceRate  ExpendituresPerStudent  \\\n",
      "MedianSAT                1.000000       -0.601902                0.572742   \n",
      "AcceptanceRate          -0.601902        1.000000               -0.284254   \n",
      "ExpendituresPerStudent   0.572742       -0.284254                1.000000   \n",
      "Top10PercentHS           0.503468       -0.609721                0.505782   \n",
      "GraduationPercent        0.564147       -0.550378                0.042504   \n",
      "\n",
      "                        Top10PercentHS  GraduationPercent  \n",
      "MedianSAT                     0.503468           0.564147  \n",
      "AcceptanceRate               -0.609721          -0.550378  \n",
      "ExpendituresPerStudent        0.505782           0.042504  \n",
      "Top10PercentHS                1.000000           0.138613  \n",
      "GraduationPercent             0.138613           1.000000  \n"
     ]
    },
    {
     "data": {
      "text/plain": [
       "<AxesSubplot:>"
      ]
     },
     "execution_count": 5,
     "metadata": {},
     "output_type": "execute_result"
    },
    {
     "data": {
      "image/png": "[encoded data removed]",
      "text/plain": [
       "<Figure size 432x288 with 2 Axes>"
      ]
     },
     "metadata": {
      "needs_background": "light"
     },
     "output_type": "display_data"
    }
   ],
   "source": [
    "cor = data.corr()\n",
    "print(cor)\n",
    "\n",
    "import seaborn as sb\n",
    "\n",
    "sb.heatmap(cor, annot=True)"
   ]
  },
  {
   "cell_type": "markdown",
   "id": "65e7569a",
   "metadata": {},
   "source": [
    "# Feature Selection"
   ]
  },
  {
   "cell_type": "code",
   "execution_count": 6,
   "id": "86b642f5",
   "metadata": {},
   "outputs": [
    {
     "data": {
      "text/plain": [
       "(array([21.94140465, 20.42366744,  0.08506146,  0.92072345]),\n",
       " array([2.42598392e-05, 4.18443571e-05, 7.71835390e-01, 3.42195517e-01]))"
      ]
     },
     "execution_count": 6,
     "metadata": {},
     "output_type": "execute_result"
    }
   ],
   "source": [
    "feature_selection.f_regression(Input, Output, center=True)"
   ]
  },
  {
   "cell_type": "code",
   "execution_count": 7,
   "id": "6aea381e",
   "metadata": {},
   "outputs": [
    {
     "data": {
      "text/html": [
       "<div>\n",
       "<style scoped>\n",
       "    .dataframe tbody tr th:only-of-type {\n",
       "        vertical-align: middle;\n",
       "    }\n",
       "\n",
       "    .dataframe tbody tr th {\n",
       "        vertical-align: top;\n",
       "    }\n",
       "\n",
       "    .dataframe thead th {\n",
       "        text-align: right;\n",
       "    }\n",
       "</style>\n",
       "<table border=\"1\" class=\"dataframe\">\n",
       "  <thead>\n",
       "    <tr style=\"text-align: right;\">\n",
       "      <th></th>\n",
       "      <th>MedianSAT</th>\n",
       "      <th>AcceptanceRate</th>\n",
       "      <th>ExpendituresPerStudent</th>\n",
       "      <th>Top10PercentHS</th>\n",
       "      <th>GraduationPercent</th>\n",
       "    </tr>\n",
       "    <tr>\n",
       "      <th>School</th>\n",
       "      <th></th>\n",
       "      <th></th>\n",
       "      <th></th>\n",
       "      <th></th>\n",
       "      <th></th>\n",
       "    </tr>\n",
       "  </thead>\n",
       "  <tbody>\n",
       "    <tr>\n",
       "      <th>Amherst</th>\n",
       "      <td>1315</td>\n",
       "      <td>0.22</td>\n",
       "      <td>26636</td>\n",
       "      <td>85</td>\n",
       "      <td>93</td>\n",
       "    </tr>\n",
       "    <tr>\n",
       "      <th>Barnard</th>\n",
       "      <td>1220</td>\n",
       "      <td>0.53</td>\n",
       "      <td>17653</td>\n",
       "      <td>69</td>\n",
       "      <td>80</td>\n",
       "    </tr>\n",
       "    <tr>\n",
       "      <th>Bates</th>\n",
       "      <td>1240</td>\n",
       "      <td>0.36</td>\n",
       "      <td>17554</td>\n",
       "      <td>58</td>\n",
       "      <td>88</td>\n",
       "    </tr>\n",
       "    <tr>\n",
       "      <th>Berkeley</th>\n",
       "      <td>1176</td>\n",
       "      <td>0.37</td>\n",
       "      <td>23665</td>\n",
       "      <td>95</td>\n",
       "      <td>68</td>\n",
       "    </tr>\n",
       "    <tr>\n",
       "      <th>Bowdoin</th>\n",
       "      <td>1300</td>\n",
       "      <td>0.24</td>\n",
       "      <td>25703</td>\n",
       "      <td>78</td>\n",
       "      <td>90</td>\n",
       "    </tr>\n",
       "  </tbody>\n",
       "</table>\n",
       "</div>"
      ],
      "text/plain": [
       "          MedianSAT  AcceptanceRate  ExpendituresPerStudent  Top10PercentHS  \\\n",
       "School                                                                        \n",
       "Amherst        1315            0.22                   26636              85   \n",
       "Barnard        1220            0.53                   17653              69   \n",
       "Bates          1240            0.36                   17554              58   \n",
       "Berkeley       1176            0.37                   23665              95   \n",
       "Bowdoin        1300            0.24                   25703              78   \n",
       "\n",
       "          GraduationPercent  \n",
       "School                       \n",
       "Amherst                  93  \n",
       "Barnard                  80  \n",
       "Bates                    88  \n",
       "Berkeley                 68  \n",
       "Bowdoin                  90  "
      ]
     },
     "execution_count": 7,
     "metadata": {},
     "output_type": "execute_result"
    }
   ],
   "source": [
    "data.head()"
   ]
  },
  {
   "cell_type": "code",
   "execution_count": 8,
   "id": "04769756",
   "metadata": {},
   "outputs": [
    {
     "data": {
      "text/plain": [
       "array([ True,  True, False,  True])"
      ]
     },
     "execution_count": 8,
     "metadata": {},
     "output_type": "execute_result"
    }
   ],
   "source": [
    "model = LinearRegression(fit_intercept=True)\n",
    "\n",
    "selector = feature_selection.RFE(model, n_features_to_select=3, step=1)\n",
    "selector = selector.fit(Input, Output)\n",
    "selector.support_"
   ]
  },
  {
   "cell_type": "code",
   "execution_count": 24,
   "id": "aa0c20f4",
   "metadata": {},
   "outputs": [
    {
     "data": {
      "text/plain": [
       "array([1, 1, 2, 1])"
      ]
     },
     "execution_count": 24,
     "metadata": {},
     "output_type": "execute_result"
    }
   ],
   "source": [
    "selector.ranking_"
   ]
  },
  {
   "cell_type": "markdown",
   "id": "9d3402b7",
   "metadata": {},
   "source": [
    "# So !\n",
    "        From the above feature selection we could take { 1, 1, 0, 1 }"
   ]
  },
  {
   "cell_type": "code",
   "execution_count": 9,
   "id": "bc78ddee",
   "metadata": {},
   "outputs": [
    {
     "data": {
      "text/html": [
       "<div>\n",
       "<style scoped>\n",
       "    .dataframe tbody tr th:only-of-type {\n",
       "        vertical-align: middle;\n",
       "    }\n",
       "\n",
       "    .dataframe tbody tr th {\n",
       "        vertical-align: top;\n",
       "    }\n",
       "\n",
       "    .dataframe thead th {\n",
       "        text-align: right;\n",
       "    }\n",
       "</style>\n",
       "<table border=\"1\" class=\"dataframe\">\n",
       "  <thead>\n",
       "    <tr style=\"text-align: right;\">\n",
       "      <th></th>\n",
       "      <th>MedianSAT</th>\n",
       "      <th>AcceptanceRate</th>\n",
       "      <th>ExpendituresPerStudent</th>\n",
       "      <th>Top10PercentHS</th>\n",
       "    </tr>\n",
       "    <tr>\n",
       "      <th>School</th>\n",
       "      <th></th>\n",
       "      <th></th>\n",
       "      <th></th>\n",
       "      <th></th>\n",
       "    </tr>\n",
       "  </thead>\n",
       "  <tbody>\n",
       "    <tr>\n",
       "      <th>Amherst</th>\n",
       "      <td>1315</td>\n",
       "      <td>0.22</td>\n",
       "      <td>26636</td>\n",
       "      <td>85</td>\n",
       "    </tr>\n",
       "    <tr>\n",
       "      <th>Barnard</th>\n",
       "      <td>1220</td>\n",
       "      <td>0.53</td>\n",
       "      <td>17653</td>\n",
       "      <td>69</td>\n",
       "    </tr>\n",
       "    <tr>\n",
       "      <th>Bates</th>\n",
       "      <td>1240</td>\n",
       "      <td>0.36</td>\n",
       "      <td>17554</td>\n",
       "      <td>58</td>\n",
       "    </tr>\n",
       "    <tr>\n",
       "      <th>Berkeley</th>\n",
       "      <td>1176</td>\n",
       "      <td>0.37</td>\n",
       "      <td>23665</td>\n",
       "      <td>95</td>\n",
       "    </tr>\n",
       "    <tr>\n",
       "      <th>Bowdoin</th>\n",
       "      <td>1300</td>\n",
       "      <td>0.24</td>\n",
       "      <td>25703</td>\n",
       "      <td>78</td>\n",
       "    </tr>\n",
       "  </tbody>\n",
       "</table>\n",
       "</div>"
      ],
      "text/plain": [
       "          MedianSAT  AcceptanceRate  ExpendituresPerStudent  Top10PercentHS\n",
       "School                                                                     \n",
       "Amherst        1315            0.22                   26636              85\n",
       "Barnard        1220            0.53                   17653              69\n",
       "Bates          1240            0.36                   17554              58\n",
       "Berkeley       1176            0.37                   23665              95\n",
       "Bowdoin        1300            0.24                   25703              78"
      ]
     },
     "execution_count": 9,
     "metadata": {},
     "output_type": "execute_result"
    }
   ],
   "source": [
    "independent.head()"
   ]
  },
  {
   "cell_type": "code",
   "execution_count": 10,
   "id": "a32a00a0",
   "metadata": {},
   "outputs": [],
   "source": [
    "selected_feature = independent.drop('ExpendituresPerStudent', axis=1)\n",
    "Input = selected_feature.values\n"
   ]
  },
  {
   "cell_type": "code",
   "execution_count": 56,
   "id": "1997eece",
   "metadata": {},
   "outputs": [],
   "source": [
    "from sklearn.model_selection import train_test_split\n",
    "\n",
    "x_train, x_test, y_train, y_test = train_test_split(Input, Output, random_state=1, test_size=0.2)"
   ]
  },
  {
   "cell_type": "code",
   "execution_count": 12,
   "id": "a275bebc",
   "metadata": {},
   "outputs": [
    {
     "data": {
      "text/plain": [
       "LinearRegression()"
      ]
     },
     "execution_count": 12,
     "metadata": {},
     "output_type": "execute_result"
    }
   ],
   "source": [
    "model.fit(x_train, y_train)\n"
   ]
  },
  {
   "cell_type": "code",
   "execution_count": 13,
   "id": "d39fea2c",
   "metadata": {},
   "outputs": [],
   "source": [
    "prediction = model.predict(x_test)"
   ]
  },
  {
   "cell_type": "code",
   "execution_count": 14,
   "id": "72655b07",
   "metadata": {},
   "outputs": [
    {
     "data": {
      "text/plain": [
       "array([77, 88, 88, 93, 88, 68, 84, 80, 86, 93])"
      ]
     },
     "execution_count": 14,
     "metadata": {},
     "output_type": "execute_result"
    }
   ],
   "source": [
    "y_test"
   ]
  },
  {
   "cell_type": "code",
   "execution_count": 15,
   "id": "fafcaeac",
   "metadata": {},
   "outputs": [
    {
     "data": {
      "text/plain": [
       "array([80.14511424, 88.93086308, 80.39156742, 89.80011231, 86.25581583,\n",
       "       73.93863886, 88.00641247, 86.69359702, 78.97412941, 90.04716322])"
      ]
     },
     "execution_count": 15,
     "metadata": {},
     "output_type": "execute_result"
    }
   ],
   "source": [
    "prediction"
   ]
  },
  {
   "cell_type": "code",
   "execution_count": 23,
   "id": "ec5f487b",
   "metadata": {},
   "outputs": [],
   "source": [
    "from sklearn.metrics import accuracy_score\n",
    "# from sklearn.metrics import eva\n",
    "\n",
    "# loss , accuracy = model.eva"
   ]
  },
  {
   "cell_type": "code",
   "execution_count": 17,
   "id": "66c2fab6",
   "metadata": {},
   "outputs": [
    {
     "data": {
      "text/plain": [
       "array([ 0.16905593, -6.38111016, -0.83237643])"
      ]
     },
     "execution_count": 17,
     "metadata": {},
     "output_type": "execute_result"
    }
   ],
   "source": [
    "\n",
    "from sklearn.model_selection import cross_val_score\n",
    "\n",
    "cross_val_score(model, x_test, y_test, cv=3)\n"
   ]
  },
  {
   "cell_type": "code",
   "execution_count": 18,
   "id": "8a445507",
   "metadata": {},
   "outputs": [
    {
     "data": {
      "text/plain": [
       "Text(0, 0.5, 'Residual')"
      ]
     },
     "execution_count": 18,
     "metadata": {},
     "output_type": "execute_result"
    },
    {
     "data": {
      "image/png": "[encoded data removed]",
      "text/plain": [
       "<Figure size 432x288 with 1 Axes>"
      ]
     },
     "metadata": {
      "needs_background": "light"
     },
     "output_type": "display_data"
    }
   ],
   "source": [
    "# Residuals plot\n",
    "# Difference between observed response and filtered response\n",
    "\n",
    "residuals = y_test - prediction\n",
    "\n",
    "\n",
    "plt.figure(0)\n",
    "plt.title('Residuals Analysis')\n",
    "plt.scatter(prediction, residuals,  color='green')\n",
    "plt.plot([69, 95], [0, 0], color='red', linestyle='--', linewidth=1)\n",
    "plt.xlabel('Predicted Value')\n",
    "plt.ylabel('Residual')"
   ]
  },
  {
   "cell_type": "code",
   "execution_count": 19,
   "id": "5b5ca481",
   "metadata": {},
   "outputs": [
    {
     "data": {
      "text/plain": [
       "((array([-1.49876728, -0.98494667, -0.64703803, -0.37109819, -0.12121409,\n",
       "          0.12121409,  0.37109819,  0.64703803,  0.98494667,  1.49876728]),\n",
       "  array([-6.69359702, -5.93863886, -4.00641247, -3.14511424, -0.93086308,\n",
       "          1.74418417,  2.95283678,  3.19988769,  7.02587059,  7.60843258])),\n",
       " (5.472585543469342, 0.18165861416785123, 0.9808632702210117))"
      ]
     },
     "execution_count": 19,
     "metadata": {},
     "output_type": "execute_result"
    },
    {
     "data": {
      "image/png": "[encoded data removed]",
      "text/plain": [
       "<Figure size 432x288 with 1 Axes>"
      ]
     },
     "metadata": {
      "needs_background": "light"
     },
     "output_type": "display_data"
    }
   ],
   "source": [
    "import scipy.stats as stats\n",
    "stats.probplot(residuals, dist=\"norm\", plot=plt)"
   ]
  },
  {
   "cell_type": "code",
   "execution_count": 39,
   "id": "ab8e0f1c",
   "metadata": {},
   "outputs": [
    {
     "data": {
      "text/html": [
       "<div>\n",
       "<style scoped>\n",
       "    .dataframe tbody tr th:only-of-type {\n",
       "        vertical-align: middle;\n",
       "    }\n",
       "\n",
       "    .dataframe tbody tr th {\n",
       "        vertical-align: top;\n",
       "    }\n",
       "\n",
       "    .dataframe thead th {\n",
       "        text-align: right;\n",
       "    }\n",
       "</style>\n",
       "<table border=\"1\" class=\"dataframe\">\n",
       "  <thead>\n",
       "    <tr style=\"text-align: right;\">\n",
       "      <th></th>\n",
       "      <th>MedianSAT</th>\n",
       "      <th>AcceptanceRate</th>\n",
       "      <th>ExpendituresPerStudent</th>\n",
       "      <th>Top10PercentHS</th>\n",
       "      <th>GraduationPercent</th>\n",
       "    </tr>\n",
       "    <tr>\n",
       "      <th>School</th>\n",
       "      <th></th>\n",
       "      <th></th>\n",
       "      <th></th>\n",
       "      <th></th>\n",
       "      <th></th>\n",
       "    </tr>\n",
       "  </thead>\n",
       "  <tbody>\n",
       "    <tr>\n",
       "      <th>Amherst</th>\n",
       "      <td>1315</td>\n",
       "      <td>0.22</td>\n",
       "      <td>26636</td>\n",
       "      <td>85</td>\n",
       "      <td>93</td>\n",
       "    </tr>\n",
       "    <tr>\n",
       "      <th>Barnard</th>\n",
       "      <td>1220</td>\n",
       "      <td>0.53</td>\n",
       "      <td>17653</td>\n",
       "      <td>69</td>\n",
       "      <td>80</td>\n",
       "    </tr>\n",
       "    <tr>\n",
       "      <th>Bates</th>\n",
       "      <td>1240</td>\n",
       "      <td>0.36</td>\n",
       "      <td>17554</td>\n",
       "      <td>58</td>\n",
       "      <td>88</td>\n",
       "    </tr>\n",
       "    <tr>\n",
       "      <th>Berkeley</th>\n",
       "      <td>1176</td>\n",
       "      <td>0.37</td>\n",
       "      <td>23665</td>\n",
       "      <td>95</td>\n",
       "      <td>68</td>\n",
       "    </tr>\n",
       "    <tr>\n",
       "      <th>Bowdoin</th>\n",
       "      <td>1300</td>\n",
       "      <td>0.24</td>\n",
       "      <td>25703</td>\n",
       "      <td>78</td>\n",
       "      <td>90</td>\n",
       "    </tr>\n",
       "  </tbody>\n",
       "</table>\n",
       "</div>"
      ],
      "text/plain": [
       "          MedianSAT  AcceptanceRate  ExpendituresPerStudent  Top10PercentHS  \\\n",
       "School                                                                        \n",
       "Amherst        1315            0.22                   26636              85   \n",
       "Barnard        1220            0.53                   17653              69   \n",
       "Bates          1240            0.36                   17554              58   \n",
       "Berkeley       1176            0.37                   23665              95   \n",
       "Bowdoin        1300            0.24                   25703              78   \n",
       "\n",
       "          GraduationPercent  \n",
       "School                       \n",
       "Amherst                  93  \n",
       "Barnard                  80  \n",
       "Bates                    88  \n",
       "Berkeley                 68  \n",
       "Bowdoin                  90  "
      ]
     },
     "execution_count": 39,
     "metadata": {},
     "output_type": "execute_result"
    }
   ],
   "source": [
    "data.head()"
   ]
  },
  {
   "cell_type": "code",
   "execution_count": 45,
   "id": "097ec47b",
   "metadata": {},
   "outputs": [
    {
     "data": {
      "text/html": [
       "<div>\n",
       "<style scoped>\n",
       "    .dataframe tbody tr th:only-of-type {\n",
       "        vertical-align: middle;\n",
       "    }\n",
       "\n",
       "    .dataframe tbody tr th {\n",
       "        vertical-align: top;\n",
       "    }\n",
       "\n",
       "    .dataframe thead th {\n",
       "        text-align: right;\n",
       "    }\n",
       "</style>\n",
       "<table border=\"1\" class=\"dataframe\">\n",
       "  <thead>\n",
       "    <tr style=\"text-align: right;\">\n",
       "      <th></th>\n",
       "      <th>VIF Factor</th>\n",
       "      <th>features</th>\n",
       "    </tr>\n",
       "  </thead>\n",
       "  <tbody>\n",
       "    <tr>\n",
       "      <th>0</th>\n",
       "      <td>81.815558</td>\n",
       "      <td>MedianSAT</td>\n",
       "    </tr>\n",
       "    <tr>\n",
       "      <th>1</th>\n",
       "      <td>10.431692</td>\n",
       "      <td>AcceptanceRate</td>\n",
       "    </tr>\n",
       "    <tr>\n",
       "      <th>2</th>\n",
       "      <td>6.444369</td>\n",
       "      <td>ExpendituresPerStudent</td>\n",
       "    </tr>\n",
       "    <tr>\n",
       "      <th>3</th>\n",
       "      <td>57.034010</td>\n",
       "      <td>Top10PercentHS</td>\n",
       "    </tr>\n",
       "  </tbody>\n",
       "</table>\n",
       "</div>"
      ],
      "text/plain": [
       "   VIF Factor                features\n",
       "0   81.815558               MedianSAT\n",
       "1   10.431692          AcceptanceRate\n",
       "2    6.444369  ExpendituresPerStudent\n",
       "3   57.034010          Top10PercentHS"
      ]
     },
     "execution_count": 45,
     "metadata": {},
     "output_type": "execute_result"
    }
   ],
   "source": [
    "from statsmodels.stats.outliers_influence import variance_inflation_factor\n",
    "\n",
    "\n",
    "vif = pd.DataFrame()\n",
    "vif[\"VIF Factor\"] = [variance_inflation_factor(independent.values, i) for i in range(independent.shape[1])]\n",
    "vif[\"features\"] = independent.columns\n",
    "vif.round(1)\n",
    "vif"
   ]
  },
  {
   "cell_type": "markdown",
   "id": "a64d9173",
   "metadata": {},
   "source": [
    "# Mathematical evaluation"
   ]
  },
  {
   "cell_type": "code",
   "execution_count": 48,
   "id": "da11db94",
   "metadata": {},
   "outputs": [
    {
     "name": "stdout",
     "output_type": "stream",
     "text": [
      "Coefficent of the model :  [  0.05514146 -28.43164495  -0.22983262]\n"
     ]
    }
   ],
   "source": [
    "print('Coefficent of the model : ',model.coef_)"
   ]
  },
  {
   "cell_type": "code",
   "execution_count": 49,
   "id": "f6a00c2f",
   "metadata": {},
   "outputs": [
    {
     "name": "stdout",
     "output_type": "stream",
     "text": [
      "Intercept of the model :  41.44608814155297\n"
     ]
    }
   ],
   "source": [
    "print('Intercept of the model : ',model.intercept_)"
   ]
  },
  {
   "cell_type": "code",
   "execution_count": 52,
   "id": "cb0ef32f",
   "metadata": {},
   "outputs": [
    {
     "name": "stdout",
     "output_type": "stream",
     "text": [
      "R^2 of the model :  0.5565576119594635\n"
     ]
    }
   ],
   "source": [
    "print('R^2 of the model : ', model.score(x_test, y_test))"
   ]
  },
  {
   "cell_type": "code",
   "execution_count": 54,
   "id": "4027e050",
   "metadata": {},
   "outputs": [
    {
     "name": "stdout",
     "output_type": "stream",
     "text": [
      "Root Mean Square  4.859352545675049\n"
     ]
    }
   ],
   "source": [
    "import math\n",
    "from sklearn.metrics import mean_squared_error\n",
    "T_pred = model.predict(x_test)\n",
    "\n",
    "print('Root Mean Square ', math.sqrt(mean_squared_error(y_test, T_pred)))"
   ]
  },
  {
   "cell_type": "code",
   "execution_count": 57,
   "id": "332d9e2b",
   "metadata": {},
   "outputs": [
    {
     "ename": "TypeError",
     "evalue": "__init__() takes 1 positional argument but 3 were given",
     "output_type": "error",
     "traceback": [
      "\u001b[0;31m---------------------------------------------------------------------------\u001b[0m",
      "\u001b[0;31mTypeError\u001b[0m                                 Traceback (most recent call last)",
      "\u001b[0;32m/var/folders/ts/4y5v3zns7x5c84jf9byws_nc0000gn/T/ipykernel_45282/2732338302.py\u001b[0m in \u001b[0;36m<module>\u001b[0;34m\u001b[0m\n\u001b[1;32m      2\u001b[0m \u001b[0my\u001b[0m \u001b[0;34m=\u001b[0m \u001b[0mdata\u001b[0m\u001b[0;34m.\u001b[0m\u001b[0mGraduationPercent\u001b[0m\u001b[0;34m\u001b[0m\u001b[0;34m\u001b[0m\u001b[0m\n\u001b[1;32m      3\u001b[0m \u001b[0;34m\u001b[0m\u001b[0m\n\u001b[0;32m----> 4\u001b[0;31m \u001b[0mmodel\u001b[0m \u001b[0;34m=\u001b[0m \u001b[0mLinearRegression\u001b[0m\u001b[0;34m(\u001b[0m\u001b[0mx_train\u001b[0m\u001b[0;34m,\u001b[0m \u001b[0my_train\u001b[0m\u001b[0;34m)\u001b[0m\u001b[0;34m\u001b[0m\u001b[0;34m\u001b[0m\u001b[0m\n\u001b[0m",
      "\u001b[0;31mTypeError\u001b[0m: __init__() takes 1 positional argument but 3 were given"
     ]
    }
   ],
   "source": [
    "x = independent\n",
    "y = data.GraduationPercent\n",
    "\n",
    "model = LinearRegression(x_train, y_train)"
   ]
  },
  {
   "cell_type": "code",
   "execution_count": null,
   "id": "4e70e168",
   "metadata": {},
   "outputs": [],
   "source": []
  }
 ],
 "metadata": {
  "kernelspec": {
   "display_name": "Python 3 (ipykernel)",
   "language": "python",
   "name": "python3"
  },
  "language_info": {
   "codemirror_mode": {
    "name": "ipython",
    "version": 3
   },
   "file_extension": ".py",
   "mimetype": "text/x-python",
   "name": "python",
   "nbconvert_exporter": "python",
   "pygments_lexer": "ipython3",
   "version": "3.7.12"
  }
 },
 "nbformat": 4,
 "nbformat_minor": 5
}
