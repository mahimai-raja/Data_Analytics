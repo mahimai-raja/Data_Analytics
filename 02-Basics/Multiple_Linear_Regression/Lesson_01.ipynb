{
 "cells": [
  {
   "cell_type": "markdown",
   "id": "92520dde",
   "metadata": {},
   "source": [
    "# Multple Linear Regression"
   ]
  },
  {
   "cell_type": "code",
   "execution_count": 1,
   "id": "1e31275d",
   "metadata": {},
   "outputs": [],
   "source": [
    "import pandas as pd\n",
    "import numpy as np\n",
    "import matplotlib.pyplot as plt\n",
    "import seaborn as sb"
   ]
  },
  {
   "cell_type": "code",
   "execution_count": 4,
   "id": "c035c4af",
   "metadata": {},
   "outputs": [
    {
     "data": {
      "text/html": [
       "<div>\n",
       "<style scoped>\n",
       "    .dataframe tbody tr th:only-of-type {\n",
       "        vertical-align: middle;\n",
       "    }\n",
       "\n",
       "    .dataframe tbody tr th {\n",
       "        vertical-align: top;\n",
       "    }\n",
       "\n",
       "    .dataframe thead th {\n",
       "        text-align: right;\n",
       "    }\n",
       "</style>\n",
       "<table border=\"1\" class=\"dataframe\">\n",
       "  <thead>\n",
       "    <tr style=\"text-align: right;\">\n",
       "      <th></th>\n",
       "      <th>MedianSAT</th>\n",
       "      <th>AcceptanceRate</th>\n",
       "      <th>ExpendituresPerStudent</th>\n",
       "      <th>Top10PercentHS</th>\n",
       "      <th>GraduationPercent</th>\n",
       "    </tr>\n",
       "    <tr>\n",
       "      <th>School</th>\n",
       "      <th></th>\n",
       "      <th></th>\n",
       "      <th></th>\n",
       "      <th></th>\n",
       "      <th></th>\n",
       "    </tr>\n",
       "  </thead>\n",
       "  <tbody>\n",
       "    <tr>\n",
       "      <th>Amherst</th>\n",
       "      <td>1315</td>\n",
       "      <td>0.22</td>\n",
       "      <td>26636</td>\n",
       "      <td>85</td>\n",
       "      <td>93</td>\n",
       "    </tr>\n",
       "    <tr>\n",
       "      <th>Barnard</th>\n",
       "      <td>1220</td>\n",
       "      <td>0.53</td>\n",
       "      <td>17653</td>\n",
       "      <td>69</td>\n",
       "      <td>80</td>\n",
       "    </tr>\n",
       "    <tr>\n",
       "      <th>Bates</th>\n",
       "      <td>1240</td>\n",
       "      <td>0.36</td>\n",
       "      <td>17554</td>\n",
       "      <td>58</td>\n",
       "      <td>88</td>\n",
       "    </tr>\n",
       "    <tr>\n",
       "      <th>Berkeley</th>\n",
       "      <td>1176</td>\n",
       "      <td>0.37</td>\n",
       "      <td>23665</td>\n",
       "      <td>95</td>\n",
       "      <td>68</td>\n",
       "    </tr>\n",
       "    <tr>\n",
       "      <th>Bowdoin</th>\n",
       "      <td>1300</td>\n",
       "      <td>0.24</td>\n",
       "      <td>25703</td>\n",
       "      <td>78</td>\n",
       "      <td>90</td>\n",
       "    </tr>\n",
       "  </tbody>\n",
       "</table>\n",
       "</div>"
      ],
      "text/plain": [
       "          MedianSAT  AcceptanceRate  ExpendituresPerStudent  Top10PercentHS  \\\n",
       "School                                                                        \n",
       "Amherst        1315            0.22                   26636              85   \n",
       "Barnard        1220            0.53                   17653              69   \n",
       "Bates          1240            0.36                   17554              58   \n",
       "Berkeley       1176            0.37                   23665              95   \n",
       "Bowdoin        1300            0.24                   25703              78   \n",
       "\n",
       "          GraduationPercent  \n",
       "School                       \n",
       "Amherst                  93  \n",
       "Barnard                  80  \n",
       "Bates                    88  \n",
       "Berkeley                 68  \n",
       "Bowdoin                  90  "
      ]
     },
     "execution_count": 4,
     "metadata": {},
     "output_type": "execute_result"
    }
   ],
   "source": [
    "data = pd.read_csv('colleges.csv', index_col=0)\n",
    "data = data.drop('Type', axis=1)\n",
    "data.head()"
   ]
  },
  {
   "cell_type": "code",
   "execution_count": 5,
   "id": "024e4c65",
   "metadata": {},
   "outputs": [],
   "source": [
    "independent = data.drop('GraduationPercent', axis=1)"
   ]
  },
  {
   "cell_type": "code",
   "execution_count": 6,
   "id": "2d383e64",
   "metadata": {},
   "outputs": [],
   "source": [
    "Input = independent.values\n",
    "Output = data['GraduationPercent'].values\n",
    "\n"
   ]
  },
  {
   "cell_type": "code",
   "execution_count": 9,
   "id": "56e76697",
   "metadata": {},
   "outputs": [
    {
     "data": {
      "text/plain": [
       "<AxesSubplot:>"
      ]
     },
     "execution_count": 9,
     "metadata": {},
     "output_type": "execute_result"
    },
    {
     "data": {
      "image/png": "[encoded data removed]",
      "text/plain": [
       "<Figure size 432x288 with 2 Axes>"
      ]
     },
     "metadata": {
      "needs_background": "light"
     },
     "output_type": "display_data"
    }
   ],
   "source": [
    "df = data.corr()\n",
    "sb.heatmap(df, annot=True)"
   ]
  },
  {
   "cell_type": "code",
   "execution_count": 13,
   "id": "21186a8b",
   "metadata": {},
   "outputs": [
    {
     "data": {
      "text/plain": [
       "(array([21.94140465, 20.42366744,  0.08506146,  0.92072345]),\n",
       " array([2.42598392e-05, 4.18443571e-05, 7.71835390e-01, 3.42195517e-01]))"
      ]
     },
     "execution_count": 13,
     "metadata": {},
     "output_type": "execute_result"
    }
   ],
   "source": [
    "from sklearn import feature_selection\n",
    "\n",
    "feature_selection.f_regression(Input, Output, center=True)"
   ]
  },
  {
   "cell_type": "code",
   "execution_count": 16,
   "id": "70c64a52",
   "metadata": {},
   "outputs": [
    {
     "data": {
      "text/plain": [
       "array([ True,  True, False,  True])"
      ]
     },
     "execution_count": 16,
     "metadata": {},
     "output_type": "execute_result"
    }
   ],
   "source": [
    "from sklearn.linear_model import LinearRegression\n",
    "\n",
    "model = LinearRegression(fit_intercept=True)\n",
    "selector = feature_selection.RFE(model, n_features_to_select=3, step=1)\n",
    "\n",
    "# Recursive Feature Elimination\n",
    "\n",
    "selector = selector.fit(Input, Output)\n",
    "selector.support_"
   ]
  },
  {
   "cell_type": "code",
   "execution_count": null,
   "id": "0f1d8167",
   "metadata": {},
   "outputs": [],
   "source": []
  },
  {
   "cell_type": "code",
   "execution_count": null,
   "id": "184e916c",
   "metadata": {},
   "outputs": [],
   "source": []
  },
  {
   "cell_type": "code",
   "execution_count": null,
   "id": "372c7d4c",
   "metadata": {},
   "outputs": [],
   "source": []
  }
 ],
 "metadata": {
  "kernelspec": {
   "display_name": "Python 3 (ipykernel)",
   "language": "python",
   "name": "python3"
  },
  "language_info": {
   "codemirror_mode": {
    "name": "ipython",
    "version": 3
   },
   "file_extension": ".py",
   "mimetype": "text/x-python",
   "name": "python",
   "nbconvert_exporter": "python",
   "pygments_lexer": "ipython3",
   "version": "3.7.12"
  }
 },
 "nbformat": 4,
 "nbformat_minor": 5
}
