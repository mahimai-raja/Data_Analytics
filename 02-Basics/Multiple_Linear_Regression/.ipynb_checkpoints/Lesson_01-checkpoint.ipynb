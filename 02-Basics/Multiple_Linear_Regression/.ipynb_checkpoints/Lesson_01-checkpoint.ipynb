{
 "cells": [
  {
   "cell_type": "markdown",
   "id": "92520dde",
   "metadata": {},
   "source": [
    "# Multple Linear Regression"
   ]
  },
  {
   "cell_type": "code",
   "execution_count": 44,
   "id": "1e31275d",
   "metadata": {},
   "outputs": [],
   "source": [
    "import pandas as pd\n",
    "import numpy as np\n",
    "import matplotlib.pyplot as plt\n",
    "import seaborn as sb\n",
    "from sklearn import feature_selection\n",
    "from sklearn.linear_model import LinearRegression"
   ]
  },
  {
   "cell_type": "code",
   "execution_count": 45,
   "id": "bd6701c8",
   "metadata": {},
   "outputs": [
    {
     "data": {
      "text/html": [
       "<div>\n",
       "<style scoped>\n",
       "    .dataframe tbody tr th:only-of-type {\n",
       "        vertical-align: middle;\n",
       "    }\n",
       "\n",
       "    .dataframe tbody tr th {\n",
       "        vertical-align: top;\n",
       "    }\n",
       "\n",
       "    .dataframe thead th {\n",
       "        text-align: right;\n",
       "    }\n",
       "</style>\n",
       "<table border=\"1\" class=\"dataframe\">\n",
       "  <thead>\n",
       "    <tr style=\"text-align: right;\">\n",
       "      <th></th>\n",
       "      <th>Type</th>\n",
       "      <th>MedianSAT</th>\n",
       "      <th>AcceptanceRate</th>\n",
       "      <th>ExpendituresPerStudent</th>\n",
       "      <th>Top10PercentHS</th>\n",
       "      <th>GraduationPercent</th>\n",
       "    </tr>\n",
       "    <tr>\n",
       "      <th>School</th>\n",
       "      <th></th>\n",
       "      <th></th>\n",
       "      <th></th>\n",
       "      <th></th>\n",
       "      <th></th>\n",
       "      <th></th>\n",
       "    </tr>\n",
       "  </thead>\n",
       "  <tbody>\n",
       "    <tr>\n",
       "      <th>Amherst</th>\n",
       "      <td>Lib Arts</td>\n",
       "      <td>1315</td>\n",
       "      <td>0.22</td>\n",
       "      <td>26636</td>\n",
       "      <td>85</td>\n",
       "      <td>93</td>\n",
       "    </tr>\n",
       "    <tr>\n",
       "      <th>Barnard</th>\n",
       "      <td>Lib Arts</td>\n",
       "      <td>1220</td>\n",
       "      <td>0.53</td>\n",
       "      <td>17653</td>\n",
       "      <td>69</td>\n",
       "      <td>80</td>\n",
       "    </tr>\n",
       "    <tr>\n",
       "      <th>Bates</th>\n",
       "      <td>Lib Arts</td>\n",
       "      <td>1240</td>\n",
       "      <td>0.36</td>\n",
       "      <td>17554</td>\n",
       "      <td>58</td>\n",
       "      <td>88</td>\n",
       "    </tr>\n",
       "    <tr>\n",
       "      <th>Berkeley</th>\n",
       "      <td>University</td>\n",
       "      <td>1176</td>\n",
       "      <td>0.37</td>\n",
       "      <td>23665</td>\n",
       "      <td>95</td>\n",
       "      <td>68</td>\n",
       "    </tr>\n",
       "    <tr>\n",
       "      <th>Bowdoin</th>\n",
       "      <td>Lib Arts</td>\n",
       "      <td>1300</td>\n",
       "      <td>0.24</td>\n",
       "      <td>25703</td>\n",
       "      <td>78</td>\n",
       "      <td>90</td>\n",
       "    </tr>\n",
       "  </tbody>\n",
       "</table>\n",
       "</div>"
      ],
      "text/plain": [
       "                Type  MedianSAT  AcceptanceRate  ExpendituresPerStudent  \\\n",
       "School                                                                    \n",
       "Amherst     Lib Arts       1315            0.22                   26636   \n",
       "Barnard     Lib Arts       1220            0.53                   17653   \n",
       "Bates       Lib Arts       1240            0.36                   17554   \n",
       "Berkeley  University       1176            0.37                   23665   \n",
       "Bowdoin     Lib Arts       1300            0.24                   25703   \n",
       "\n",
       "          Top10PercentHS  GraduationPercent  \n",
       "School                                       \n",
       "Amherst               85                 93  \n",
       "Barnard               69                 80  \n",
       "Bates                 58                 88  \n",
       "Berkeley              95                 68  \n",
       "Bowdoin               78                 90  "
      ]
     },
     "execution_count": 45,
     "metadata": {},
     "output_type": "execute_result"
    }
   ],
   "source": [
    "data = pd.read_csv('colleges.csv', index_col=0)\n",
    "data.head()"
   ]
  },
  {
   "cell_type": "code",
   "execution_count": 50,
   "id": "4ca75e59",
   "metadata": {},
   "outputs": [],
   "source": [
    "data = data.drop('Type', axis=1)\n",
    "\n",
    "independent = data.drop('GraduationPercent', axis=1)\n",
    "\n",
    "Input = independent.values\n",
    "Output = data.GraduationPercent.values\n"
   ]
  },
  {
   "cell_type": "code",
   "execution_count": 51,
   "id": "5a3ea78c",
   "metadata": {},
   "outputs": [
    {
     "data": {
      "text/plain": [
       "(array([21.94140465, 20.42366744,  0.08506146,  0.92072345]),\n",
       " array([2.42598392e-05, 4.18443571e-05, 7.71835390e-01, 3.42195517e-01]))"
      ]
     },
     "execution_count": 51,
     "metadata": {},
     "output_type": "execute_result"
    }
   ],
   "source": [
    "feature_selection.f_regression(Input,Output, center=True)"
   ]
  },
  {
   "cell_type": "markdown",
   "id": "d8252b0a",
   "metadata": {},
   "source": [
    "# Feature Selection"
   ]
  },
  {
   "cell_type": "code",
   "execution_count": 53,
   "id": "857ce2ca",
   "metadata": {},
   "outputs": [
    {
     "data": {
      "text/plain": [
       "array([False,  True, False,  True])"
      ]
     },
     "execution_count": 53,
     "metadata": {},
     "output_type": "execute_result"
    }
   ],
   "source": [
    "model = LinearRegression(fit_intercept=True)\n",
    "selector = feature_selection.RFE(model , n_features_to_select=2, step=1)\n",
    "selector.fit(Input, Output)\n",
    "selector.support_"
   ]
  },
  {
   "cell_type": "code",
   "execution_count": null,
   "id": "a2a0c5a1",
   "metadata": {},
   "outputs": [],
   "source": []
  }
 ],
 "metadata": {
  "kernelspec": {
   "display_name": "Python 3 (ipykernel)",
   "language": "python",
   "name": "python3"
  },
  "language_info": {
   "codemirror_mode": {
    "name": "ipython",
    "version": 3
   },
   "file_extension": ".py",
   "mimetype": "text/x-python",
   "name": "python",
   "nbconvert_exporter": "python",
   "pygments_lexer": "ipython3",
   "version": "3.7.12"
  }
 },
 "nbformat": 4,
 "nbformat_minor": 5
}
