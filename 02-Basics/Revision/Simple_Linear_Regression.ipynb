{
 "cells": [
  {
   "cell_type": "markdown",
   "id": "9663262f",
   "metadata": {},
   "source": [
    "# Simple Linear Regression"
   ]
  },
  {
   "cell_type": "markdown",
   "id": "7a1c8ff4",
   "metadata": {},
   "source": [
    "# Index of Content\n",
    "\n",
    "\n",
    "- Correlation \n",
    "- Coefficient \n",
    "- Interrcept \n",
    "- Loss Function R^2\n",
    "- Root Mean Square \n",
    "- Stats model \n"
   ]
  },
  {
   "cell_type": "code",
   "execution_count": 1,
   "id": "11fc8ddd",
   "metadata": {},
   "outputs": [],
   "source": [
    "import pandas as pd \n",
    "import numpy as np\n",
    "import matplotlib.pyplot as plt"
   ]
  },
  {
   "cell_type": "code",
   "execution_count": 38,
   "id": "b52f2f5a",
   "metadata": {},
   "outputs": [
    {
     "data": {
      "text/plain": [
       "49"
      ]
     },
     "execution_count": 38,
     "metadata": {},
     "output_type": "execute_result"
    }
   ],
   "source": [
    "data = pd.read_csv('colleges.csv', index_col=0)\n",
    "data.value_counts().sum()"
   ]
  },
  {
   "cell_type": "code",
   "execution_count": 40,
   "id": "86e3f780",
   "metadata": {},
   "outputs": [],
   "source": [
    "data = data.dropna()"
   ]
  },
  {
   "cell_type": "code",
   "execution_count": 41,
   "id": "7bf7718d",
   "metadata": {},
   "outputs": [
    {
     "data": {
      "text/plain": [
       "49"
      ]
     },
     "execution_count": 41,
     "metadata": {},
     "output_type": "execute_result"
    }
   ],
   "source": [
    "data.value_counts().sum()"
   ]
  },
  {
   "cell_type": "code",
   "execution_count": 42,
   "id": "da14ff8d",
   "metadata": {},
   "outputs": [
    {
     "data": {
      "text/plain": [
       "Type                      0\n",
       "MedianSAT                 0\n",
       "AcceptanceRate            0\n",
       "ExpendituresPerStudent    0\n",
       "Top10PercentHS            0\n",
       "GraduationPercent         0\n",
       "dtype: int64"
      ]
     },
     "execution_count": 42,
     "metadata": {},
     "output_type": "execute_result"
    }
   ],
   "source": [
    "data.isnull().sum()"
   ]
  },
  {
   "cell_type": "code",
   "execution_count": 43,
   "id": "2807297c",
   "metadata": {},
   "outputs": [
    {
     "data": {
      "text/html": [
       "<div>\n",
       "<style scoped>\n",
       "    .dataframe tbody tr th:only-of-type {\n",
       "        vertical-align: middle;\n",
       "    }\n",
       "\n",
       "    .dataframe tbody tr th {\n",
       "        vertical-align: top;\n",
       "    }\n",
       "\n",
       "    .dataframe thead th {\n",
       "        text-align: right;\n",
       "    }\n",
       "</style>\n",
       "<table border=\"1\" class=\"dataframe\">\n",
       "  <thead>\n",
       "    <tr style=\"text-align: right;\">\n",
       "      <th></th>\n",
       "      <th>Type</th>\n",
       "      <th>MedianSAT</th>\n",
       "      <th>AcceptanceRate</th>\n",
       "      <th>ExpendituresPerStudent</th>\n",
       "      <th>Top10PercentHS</th>\n",
       "      <th>GraduationPercent</th>\n",
       "    </tr>\n",
       "    <tr>\n",
       "      <th>School</th>\n",
       "      <th></th>\n",
       "      <th></th>\n",
       "      <th></th>\n",
       "      <th></th>\n",
       "      <th></th>\n",
       "      <th></th>\n",
       "    </tr>\n",
       "  </thead>\n",
       "  <tbody>\n",
       "    <tr>\n",
       "      <th>Amherst</th>\n",
       "      <td>Lib Arts</td>\n",
       "      <td>1315</td>\n",
       "      <td>0.22</td>\n",
       "      <td>26636</td>\n",
       "      <td>85</td>\n",
       "      <td>93</td>\n",
       "    </tr>\n",
       "    <tr>\n",
       "      <th>Barnard</th>\n",
       "      <td>Lib Arts</td>\n",
       "      <td>1220</td>\n",
       "      <td>0.53</td>\n",
       "      <td>17653</td>\n",
       "      <td>69</td>\n",
       "      <td>80</td>\n",
       "    </tr>\n",
       "    <tr>\n",
       "      <th>Bates</th>\n",
       "      <td>Lib Arts</td>\n",
       "      <td>1240</td>\n",
       "      <td>0.36</td>\n",
       "      <td>17554</td>\n",
       "      <td>58</td>\n",
       "      <td>88</td>\n",
       "    </tr>\n",
       "    <tr>\n",
       "      <th>Berkeley</th>\n",
       "      <td>University</td>\n",
       "      <td>1176</td>\n",
       "      <td>0.37</td>\n",
       "      <td>23665</td>\n",
       "      <td>95</td>\n",
       "      <td>68</td>\n",
       "    </tr>\n",
       "    <tr>\n",
       "      <th>Bowdoin</th>\n",
       "      <td>Lib Arts</td>\n",
       "      <td>1300</td>\n",
       "      <td>0.24</td>\n",
       "      <td>25703</td>\n",
       "      <td>78</td>\n",
       "      <td>90</td>\n",
       "    </tr>\n",
       "  </tbody>\n",
       "</table>\n",
       "</div>"
      ],
      "text/plain": [
       "                Type  MedianSAT  AcceptanceRate  ExpendituresPerStudent  \\\n",
       "School                                                                    \n",
       "Amherst     Lib Arts       1315            0.22                   26636   \n",
       "Barnard     Lib Arts       1220            0.53                   17653   \n",
       "Bates       Lib Arts       1240            0.36                   17554   \n",
       "Berkeley  University       1176            0.37                   23665   \n",
       "Bowdoin     Lib Arts       1300            0.24                   25703   \n",
       "\n",
       "          Top10PercentHS  GraduationPercent  \n",
       "School                                       \n",
       "Amherst               85                 93  \n",
       "Barnard               69                 80  \n",
       "Bates                 58                 88  \n",
       "Berkeley              95                 68  \n",
       "Bowdoin               78                 90  "
      ]
     },
     "execution_count": 43,
     "metadata": {},
     "output_type": "execute_result"
    }
   ],
   "source": [
    "data.head()"
   ]
  },
  {
   "cell_type": "code",
   "execution_count": 45,
   "id": "b3715687",
   "metadata": {},
   "outputs": [
    {
     "data": {
      "text/html": [
       "<div>\n",
       "<style scoped>\n",
       "    .dataframe tbody tr th:only-of-type {\n",
       "        vertical-align: middle;\n",
       "    }\n",
       "\n",
       "    .dataframe tbody tr th {\n",
       "        vertical-align: top;\n",
       "    }\n",
       "\n",
       "    .dataframe thead th {\n",
       "        text-align: right;\n",
       "    }\n",
       "</style>\n",
       "<table border=\"1\" class=\"dataframe\">\n",
       "  <thead>\n",
       "    <tr style=\"text-align: right;\">\n",
       "      <th></th>\n",
       "      <th>MedianSAT</th>\n",
       "      <th>AcceptanceRate</th>\n",
       "      <th>ExpendituresPerStudent</th>\n",
       "      <th>Top10PercentHS</th>\n",
       "      <th>GraduationPercent</th>\n",
       "    </tr>\n",
       "    <tr>\n",
       "      <th>School</th>\n",
       "      <th></th>\n",
       "      <th></th>\n",
       "      <th></th>\n",
       "      <th></th>\n",
       "      <th></th>\n",
       "    </tr>\n",
       "  </thead>\n",
       "  <tbody>\n",
       "    <tr>\n",
       "      <th>Amherst</th>\n",
       "      <td>1315</td>\n",
       "      <td>0.22</td>\n",
       "      <td>26636</td>\n",
       "      <td>85</td>\n",
       "      <td>93</td>\n",
       "    </tr>\n",
       "    <tr>\n",
       "      <th>Barnard</th>\n",
       "      <td>1220</td>\n",
       "      <td>0.53</td>\n",
       "      <td>17653</td>\n",
       "      <td>69</td>\n",
       "      <td>80</td>\n",
       "    </tr>\n",
       "    <tr>\n",
       "      <th>Bates</th>\n",
       "      <td>1240</td>\n",
       "      <td>0.36</td>\n",
       "      <td>17554</td>\n",
       "      <td>58</td>\n",
       "      <td>88</td>\n",
       "    </tr>\n",
       "    <tr>\n",
       "      <th>Berkeley</th>\n",
       "      <td>1176</td>\n",
       "      <td>0.37</td>\n",
       "      <td>23665</td>\n",
       "      <td>95</td>\n",
       "      <td>68</td>\n",
       "    </tr>\n",
       "    <tr>\n",
       "      <th>Bowdoin</th>\n",
       "      <td>1300</td>\n",
       "      <td>0.24</td>\n",
       "      <td>25703</td>\n",
       "      <td>78</td>\n",
       "      <td>90</td>\n",
       "    </tr>\n",
       "  </tbody>\n",
       "</table>\n",
       "</div>"
      ],
      "text/plain": [
       "          MedianSAT  AcceptanceRate  ExpendituresPerStudent  Top10PercentHS  \\\n",
       "School                                                                        \n",
       "Amherst        1315            0.22                   26636              85   \n",
       "Barnard        1220            0.53                   17653              69   \n",
       "Bates          1240            0.36                   17554              58   \n",
       "Berkeley       1176            0.37                   23665              95   \n",
       "Bowdoin        1300            0.24                   25703              78   \n",
       "\n",
       "          GraduationPercent  \n",
       "School                       \n",
       "Amherst                  93  \n",
       "Barnard                  80  \n",
       "Bates                    88  \n",
       "Berkeley                 68  \n",
       "Bowdoin                  90  "
      ]
     },
     "execution_count": 45,
     "metadata": {},
     "output_type": "execute_result"
    }
   ],
   "source": [
    "data = data.drop('Type',axis=1)\n",
    "data.head()"
   ]
  },
  {
   "cell_type": "markdown",
   "id": "b2eaac20",
   "metadata": {},
   "source": [
    "# Correlation"
   ]
  },
  {
   "cell_type": "code",
   "execution_count": 50,
   "id": "ec49dfe0",
   "metadata": {},
   "outputs": [
    {
     "data": {
      "text/html": [
       "<div>\n",
       "<style scoped>\n",
       "    .dataframe tbody tr th:only-of-type {\n",
       "        vertical-align: middle;\n",
       "    }\n",
       "\n",
       "    .dataframe tbody tr th {\n",
       "        vertical-align: top;\n",
       "    }\n",
       "\n",
       "    .dataframe thead th {\n",
       "        text-align: right;\n",
       "    }\n",
       "</style>\n",
       "<table border=\"1\" class=\"dataframe\">\n",
       "  <thead>\n",
       "    <tr style=\"text-align: right;\">\n",
       "      <th></th>\n",
       "      <th>MedianSAT</th>\n",
       "      <th>AcceptanceRate</th>\n",
       "      <th>ExpendituresPerStudent</th>\n",
       "      <th>Top10PercentHS</th>\n",
       "      <th>GraduationPercent</th>\n",
       "    </tr>\n",
       "  </thead>\n",
       "  <tbody>\n",
       "    <tr>\n",
       "      <th>MedianSAT</th>\n",
       "      <td>1.000000</td>\n",
       "      <td>-0.601902</td>\n",
       "      <td>0.572742</td>\n",
       "      <td>0.503468</td>\n",
       "      <td>0.564147</td>\n",
       "    </tr>\n",
       "    <tr>\n",
       "      <th>AcceptanceRate</th>\n",
       "      <td>-0.601902</td>\n",
       "      <td>1.000000</td>\n",
       "      <td>-0.284254</td>\n",
       "      <td>-0.609721</td>\n",
       "      <td>-0.550378</td>\n",
       "    </tr>\n",
       "    <tr>\n",
       "      <th>ExpendituresPerStudent</th>\n",
       "      <td>0.572742</td>\n",
       "      <td>-0.284254</td>\n",
       "      <td>1.000000</td>\n",
       "      <td>0.505782</td>\n",
       "      <td>0.042504</td>\n",
       "    </tr>\n",
       "    <tr>\n",
       "      <th>Top10PercentHS</th>\n",
       "      <td>0.503468</td>\n",
       "      <td>-0.609721</td>\n",
       "      <td>0.505782</td>\n",
       "      <td>1.000000</td>\n",
       "      <td>0.138613</td>\n",
       "    </tr>\n",
       "    <tr>\n",
       "      <th>GraduationPercent</th>\n",
       "      <td>0.564147</td>\n",
       "      <td>-0.550378</td>\n",
       "      <td>0.042504</td>\n",
       "      <td>0.138613</td>\n",
       "      <td>1.000000</td>\n",
       "    </tr>\n",
       "  </tbody>\n",
       "</table>\n",
       "</div>"
      ],
      "text/plain": [
       "                        MedianSAT  AcceptanceRate  ExpendituresPerStudent  \\\n",
       "MedianSAT                1.000000       -0.601902                0.572742   \n",
       "AcceptanceRate          -0.601902        1.000000               -0.284254   \n",
       "ExpendituresPerStudent   0.572742       -0.284254                1.000000   \n",
       "Top10PercentHS           0.503468       -0.609721                0.505782   \n",
       "GraduationPercent        0.564147       -0.550378                0.042504   \n",
       "\n",
       "                        Top10PercentHS  GraduationPercent  \n",
       "MedianSAT                     0.503468           0.564147  \n",
       "AcceptanceRate               -0.609721          -0.550378  \n",
       "ExpendituresPerStudent        0.505782           0.042504  \n",
       "Top10PercentHS                1.000000           0.138613  \n",
       "GraduationPercent             0.138613           1.000000  "
      ]
     },
     "execution_count": 50,
     "metadata": {},
     "output_type": "execute_result"
    }
   ],
   "source": [
    "data.corr(method='pearson')         # pearson , kendall  - To find the correlation"
   ]
  },
  {
   "cell_type": "code",
   "execution_count": 51,
   "id": "d7550205",
   "metadata": {},
   "outputs": [
    {
     "data": {
      "text/html": [
       "<div>\n",
       "<style scoped>\n",
       "    .dataframe tbody tr th:only-of-type {\n",
       "        vertical-align: middle;\n",
       "    }\n",
       "\n",
       "    .dataframe tbody tr th {\n",
       "        vertical-align: top;\n",
       "    }\n",
       "\n",
       "    .dataframe thead th {\n",
       "        text-align: right;\n",
       "    }\n",
       "</style>\n",
       "<table border=\"1\" class=\"dataframe\">\n",
       "  <thead>\n",
       "    <tr style=\"text-align: right;\">\n",
       "      <th></th>\n",
       "      <th>MedianSAT</th>\n",
       "      <th>AcceptanceRate</th>\n",
       "      <th>ExpendituresPerStudent</th>\n",
       "      <th>Top10PercentHS</th>\n",
       "      <th>GraduationPercent</th>\n",
       "    </tr>\n",
       "  </thead>\n",
       "  <tbody>\n",
       "    <tr>\n",
       "      <th>MedianSAT</th>\n",
       "      <td>1.000000</td>\n",
       "      <td>-0.487917</td>\n",
       "      <td>0.324791</td>\n",
       "      <td>0.459220</td>\n",
       "      <td>0.413664</td>\n",
       "    </tr>\n",
       "    <tr>\n",
       "      <th>AcceptanceRate</th>\n",
       "      <td>-0.487917</td>\n",
       "      <td>1.000000</td>\n",
       "      <td>-0.197605</td>\n",
       "      <td>-0.468547</td>\n",
       "      <td>-0.485115</td>\n",
       "    </tr>\n",
       "    <tr>\n",
       "      <th>ExpendituresPerStudent</th>\n",
       "      <td>0.324791</td>\n",
       "      <td>-0.197605</td>\n",
       "      <td>1.000000</td>\n",
       "      <td>0.377004</td>\n",
       "      <td>0.093770</td>\n",
       "    </tr>\n",
       "    <tr>\n",
       "      <th>Top10PercentHS</th>\n",
       "      <td>0.459220</td>\n",
       "      <td>-0.468547</td>\n",
       "      <td>0.377004</td>\n",
       "      <td>1.000000</td>\n",
       "      <td>0.227984</td>\n",
       "    </tr>\n",
       "    <tr>\n",
       "      <th>GraduationPercent</th>\n",
       "      <td>0.413664</td>\n",
       "      <td>-0.485115</td>\n",
       "      <td>0.093770</td>\n",
       "      <td>0.227984</td>\n",
       "      <td>1.000000</td>\n",
       "    </tr>\n",
       "  </tbody>\n",
       "</table>\n",
       "</div>"
      ],
      "text/plain": [
       "                        MedianSAT  AcceptanceRate  ExpendituresPerStudent  \\\n",
       "MedianSAT                1.000000       -0.487917                0.324791   \n",
       "AcceptanceRate          -0.487917        1.000000               -0.197605   \n",
       "ExpendituresPerStudent   0.324791       -0.197605                1.000000   \n",
       "Top10PercentHS           0.459220       -0.468547                0.377004   \n",
       "GraduationPercent        0.413664       -0.485115                0.093770   \n",
       "\n",
       "                        Top10PercentHS  GraduationPercent  \n",
       "MedianSAT                     0.459220           0.413664  \n",
       "AcceptanceRate               -0.468547          -0.485115  \n",
       "ExpendituresPerStudent        0.377004           0.093770  \n",
       "Top10PercentHS                1.000000           0.227984  \n",
       "GraduationPercent             0.227984           1.000000  "
      ]
     },
     "execution_count": 51,
     "metadata": {},
     "output_type": "execute_result"
    }
   ],
   "source": [
    "data.corr(method='kendall') "
   ]
  },
  {
   "cell_type": "code",
   "execution_count": 52,
   "id": "aeddca45",
   "metadata": {},
   "outputs": [],
   "source": [
    "from sklearn.linear_model import LinearRegression"
   ]
  },
  {
   "cell_type": "code",
   "execution_count": 66,
   "id": "38b8bc50",
   "metadata": {},
   "outputs": [
    {
     "data": {
      "text/plain": [
       "LinearRegression()"
      ]
     },
     "execution_count": 66,
     "metadata": {},
     "output_type": "execute_result"
    }
   ],
   "source": [
    "Input = data.drop('GraduationPercent',axis=1)\n",
    "Output = data.GraduationPercent\n",
    "Input = Input.values\n",
    "Output = Output.values\n",
    "\n",
    "model = LinearRegression()\n",
    "model.fit(Input, Output)"
   ]
  },
  {
   "cell_type": "code",
   "execution_count": 72,
   "id": "b67c5b33",
   "metadata": {},
   "outputs": [
    {
     "name": "stdout",
     "output_type": "stream",
     "text": [
      "[ 7.20062848e-02 -2.48592318e+01 -1.35649860e-04 -1.62764489e-01]\n"
     ]
    }
   ],
   "source": [
    "Prediction = model.predict(Input)\n",
    "\n",
    "# COEFFIENT \n",
    "\n",
    "coefficient = model.coef_\n",
    "print(coefficient)"
   ]
  },
  {
   "cell_type": "code",
   "execution_count": 75,
   "id": "114a9198",
   "metadata": {},
   "outputs": [
    {
     "name": "stdout",
     "output_type": "stream",
     "text": [
      "17.92095587064854\n"
     ]
    }
   ],
   "source": [
    "# INTERCEPT\n",
    "\n",
    "\n",
    "intercept = model.intercept_\n",
    "print(intercept)"
   ]
  },
  {
   "cell_type": "code",
   "execution_count": 78,
   "id": "c108a80f",
   "metadata": {},
   "outputs": [
    {
     "name": "stdout",
     "output_type": "stream",
     "text": [
      "0.5344260406481334\n"
     ]
    }
   ],
   "source": [
    "# R^2\n",
    "# Evaluation of loss function \n",
    "\n",
    "RSquare = model.score(Input, Output)\n",
    "print(RSquare)"
   ]
  },
  {
   "cell_type": "code",
   "execution_count": 81,
   "id": "0f0d8bea",
   "metadata": {},
   "outputs": [],
   "source": [
    "from sklearn import metrics\n",
    "import math"
   ]
  },
  {
   "cell_type": "code",
   "execution_count": 82,
   "id": "b1a449ba",
   "metadata": {},
   "outputs": [
    {
     "name": "stdout",
     "output_type": "stream",
     "text": [
      "5.0302188013476625\n"
     ]
    }
   ],
   "source": [
    "# Root Mean Squared \n",
    "\n",
    "RMS = math.sqrt(metrics.mean_squared_error(Output, Prediction))\n",
    "print(RMS)"
   ]
  },
  {
   "cell_type": "markdown",
   "id": "215f853e",
   "metadata": {},
   "source": [
    "# STATS Model"
   ]
  },
  {
   "cell_type": "code",
   "execution_count": 83,
   "id": "c88166b0",
   "metadata": {},
   "outputs": [],
   "source": [
    "import statsmodels.api as sm"
   ]
  },
  {
   "cell_type": "code",
   "execution_count": 85,
   "id": "fcd7caa0",
   "metadata": {},
   "outputs": [],
   "source": [
    "Input = data.drop('GraduationPercent', axis=1)\n",
    "Output = data.GraduationPercent\n",
    "\n",
    "# Add constant -> OLS -> Fit -> Summary\n"
   ]
  },
  {
   "cell_type": "code",
   "execution_count": 86,
   "id": "b7ef1ac6",
   "metadata": {},
   "outputs": [
    {
     "data": {
      "text/html": [
       "<table class=\"simpletable\">\n",
       "<caption>OLS Regression Results</caption>\n",
       "<tr>\n",
       "  <th>Dep. Variable:</th>    <td>GraduationPercent</td> <th>  R-squared:         </th> <td>   0.534</td>\n",
       "</tr>\n",
       "<tr>\n",
       "  <th>Model:</th>                   <td>OLS</td>        <th>  Adj. R-squared:    </th> <td>   0.492</td>\n",
       "</tr>\n",
       "<tr>\n",
       "  <th>Method:</th>             <td>Least Squares</td>   <th>  F-statistic:       </th> <td>   12.63</td>\n",
       "</tr>\n",
       "<tr>\n",
       "  <th>Date:</th>             <td>Wed, 08 Jun 2022</td>  <th>  Prob (F-statistic):</th> <td>6.33e-07</td>\n",
       "</tr>\n",
       "<tr>\n",
       "  <th>Time:</th>                 <td>21:36:55</td>      <th>  Log-Likelihood:    </th> <td> -148.69</td>\n",
       "</tr>\n",
       "<tr>\n",
       "  <th>No. Observations:</th>      <td>    49</td>       <th>  AIC:               </th> <td>   307.4</td>\n",
       "</tr>\n",
       "<tr>\n",
       "  <th>Df Residuals:</th>          <td>    44</td>       <th>  BIC:               </th> <td>   316.8</td>\n",
       "</tr>\n",
       "<tr>\n",
       "  <th>Df Model:</th>              <td>     4</td>       <th>                     </th>     <td> </td>   \n",
       "</tr>\n",
       "<tr>\n",
       "  <th>Covariance Type:</th>      <td>nonrobust</td>     <th>                     </th>     <td> </td>   \n",
       "</tr>\n",
       "</table>\n",
       "<table class=\"simpletable\">\n",
       "<tr>\n",
       "             <td></td>               <th>coef</th>     <th>std err</th>      <th>t</th>      <th>P>|t|</th>  <th>[0.025</th>    <th>0.975]</th>  \n",
       "</tr>\n",
       "<tr>\n",
       "  <th>const</th>                  <td>   17.9210</td> <td>   24.557</td> <td>    0.730</td> <td> 0.469</td> <td>  -31.571</td> <td>   67.413</td>\n",
       "</tr>\n",
       "<tr>\n",
       "  <th>MedianSAT</th>              <td>    0.0720</td> <td>    0.018</td> <td>    4.004</td> <td> 0.000</td> <td>    0.036</td> <td>    0.108</td>\n",
       "</tr>\n",
       "<tr>\n",
       "  <th>AcceptanceRate</th>         <td>  -24.8592</td> <td>    8.315</td> <td>   -2.990</td> <td> 0.005</td> <td>  -41.617</td> <td>   -8.101</td>\n",
       "</tr>\n",
       "<tr>\n",
       "  <th>ExpendituresPerStudent</th> <td>   -0.0001</td> <td> 6.59e-05</td> <td>   -2.057</td> <td> 0.046</td> <td>   -0.000</td> <td>-2.77e-06</td>\n",
       "</tr>\n",
       "<tr>\n",
       "  <th>Top10PercentHS</th>         <td>   -0.1628</td> <td>    0.079</td> <td>   -2.051</td> <td> 0.046</td> <td>   -0.323</td> <td>   -0.003</td>\n",
       "</tr>\n",
       "</table>\n",
       "<table class=\"simpletable\">\n",
       "<tr>\n",
       "  <th>Omnibus:</th>       <td> 1.954</td> <th>  Durbin-Watson:     </th> <td>   2.010</td>\n",
       "</tr>\n",
       "<tr>\n",
       "  <th>Prob(Omnibus):</th> <td> 0.376</td> <th>  Jarque-Bera (JB):  </th> <td>   1.833</td>\n",
       "</tr>\n",
       "<tr>\n",
       "  <th>Skew:</th>          <td>-0.450</td> <th>  Prob(JB):          </th> <td>   0.400</td>\n",
       "</tr>\n",
       "<tr>\n",
       "  <th>Kurtosis:</th>      <td> 2.706</td> <th>  Cond. No.          </th> <td>1.12e+06</td>\n",
       "</tr>\n",
       "</table><br/><br/>Notes:<br/>[1] Standard Errors assume that the covariance matrix of the errors is correctly specified.<br/>[2] The condition number is large, 1.12e+06. This might indicate that there are<br/>strong multicollinearity or other numerical problems."
      ],
      "text/plain": [
       "<class 'statsmodels.iolib.summary.Summary'>\n",
       "\"\"\"\n",
       "                            OLS Regression Results                            \n",
       "==============================================================================\n",
       "Dep. Variable:      GraduationPercent   R-squared:                       0.534\n",
       "Model:                            OLS   Adj. R-squared:                  0.492\n",
       "Method:                 Least Squares   F-statistic:                     12.63\n",
       "Date:                Wed, 08 Jun 2022   Prob (F-statistic):           6.33e-07\n",
       "Time:                        21:36:55   Log-Likelihood:                -148.69\n",
       "No. Observations:                  49   AIC:                             307.4\n",
       "Df Residuals:                      44   BIC:                             316.8\n",
       "Df Model:                           4                                         \n",
       "Covariance Type:            nonrobust                                         \n",
       "==========================================================================================\n",
       "                             coef    std err          t      P>|t|      [0.025      0.975]\n",
       "------------------------------------------------------------------------------------------\n",
       "const                     17.9210     24.557      0.730      0.469     -31.571      67.413\n",
       "MedianSAT                  0.0720      0.018      4.004      0.000       0.036       0.108\n",
       "AcceptanceRate           -24.8592      8.315     -2.990      0.005     -41.617      -8.101\n",
       "ExpendituresPerStudent    -0.0001   6.59e-05     -2.057      0.046      -0.000   -2.77e-06\n",
       "Top10PercentHS            -0.1628      0.079     -2.051      0.046      -0.323      -0.003\n",
       "==============================================================================\n",
       "Omnibus:                        1.954   Durbin-Watson:                   2.010\n",
       "Prob(Omnibus):                  0.376   Jarque-Bera (JB):                1.833\n",
       "Skew:                          -0.450   Prob(JB):                        0.400\n",
       "Kurtosis:                       2.706   Cond. No.                     1.12e+06\n",
       "==============================================================================\n",
       "\n",
       "Notes:\n",
       "[1] Standard Errors assume that the covariance matrix of the errors is correctly specified.\n",
       "[2] The condition number is large, 1.12e+06. This might indicate that there are\n",
       "strong multicollinearity or other numerical problems.\n",
       "\"\"\""
      ]
     },
     "execution_count": 86,
     "metadata": {},
     "output_type": "execute_result"
    }
   ],
   "source": [
    "x2 = sm.add_constant(Input)\n",
    "ols = sm.OLS(Output, x2)          # Ordinary Least Square \n",
    "est = ols.fit()\n",
    "\n",
    "est.summary()"
   ]
  }
 ],
 "metadata": {
  "kernelspec": {
   "display_name": "Python 3 (ipykernel)",
   "language": "python",
   "name": "python3"
  },
  "language_info": {
   "codemirror_mode": {
    "name": "ipython",
    "version": 3
   },
   "file_extension": ".py",
   "mimetype": "text/x-python",
   "name": "python",
   "nbconvert_exporter": "python",
   "pygments_lexer": "ipython3",
   "version": "3.7.12"
  }
 },
 "nbformat": 4,
 "nbformat_minor": 5
}
