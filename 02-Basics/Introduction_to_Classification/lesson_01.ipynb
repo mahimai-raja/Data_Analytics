{
 "cells": [
  {
   "cell_type": "markdown",
   "id": "3696c73e",
   "metadata": {},
   "source": [
    "# Introduction to classification"
   ]
  },
  {
   "cell_type": "code",
   "execution_count": 1,
   "id": "c6115ab8",
   "metadata": {},
   "outputs": [],
   "source": [
    "import pandas as pd\n",
    "import numpy as np\n",
    "import seaborn as sb\n",
    "import matplotlib.pyplot as plt \n"
   ]
  },
  {
   "cell_type": "markdown",
   "id": "24b4b05c",
   "metadata": {},
   "source": [
    "# Data Exploration"
   ]
  },
  {
   "cell_type": "code",
   "execution_count": 4,
   "id": "dd9b06d1",
   "metadata": {},
   "outputs": [
    {
     "data": {
      "text/html": [
       "<div>\n",
       "<style scoped>\n",
       "    .dataframe tbody tr th:only-of-type {\n",
       "        vertical-align: middle;\n",
       "    }\n",
       "\n",
       "    .dataframe tbody tr th {\n",
       "        vertical-align: top;\n",
       "    }\n",
       "\n",
       "    .dataframe thead th {\n",
       "        text-align: right;\n",
       "    }\n",
       "</style>\n",
       "<table border=\"1\" class=\"dataframe\">\n",
       "  <thead>\n",
       "    <tr style=\"text-align: right;\">\n",
       "      <th></th>\n",
       "      <th>hair</th>\n",
       "      <th>feathers</th>\n",
       "      <th>eggs</th>\n",
       "      <th>milk</th>\n",
       "      <th>airborne</th>\n",
       "      <th>aquatic</th>\n",
       "      <th>predator</th>\n",
       "      <th>toothed</th>\n",
       "      <th>backbone</th>\n",
       "      <th>breathes</th>\n",
       "      <th>venomous</th>\n",
       "      <th>fins</th>\n",
       "      <th>legs</th>\n",
       "      <th>tail</th>\n",
       "      <th>domestic</th>\n",
       "      <th>catsize</th>\n",
       "      <th>type</th>\n",
       "    </tr>\n",
       "    <tr>\n",
       "      <th>animal</th>\n",
       "      <th></th>\n",
       "      <th></th>\n",
       "      <th></th>\n",
       "      <th></th>\n",
       "      <th></th>\n",
       "      <th></th>\n",
       "      <th></th>\n",
       "      <th></th>\n",
       "      <th></th>\n",
       "      <th></th>\n",
       "      <th></th>\n",
       "      <th></th>\n",
       "      <th></th>\n",
       "      <th></th>\n",
       "      <th></th>\n",
       "      <th></th>\n",
       "      <th></th>\n",
       "    </tr>\n",
       "  </thead>\n",
       "  <tbody>\n",
       "    <tr>\n",
       "      <th>aardvark</th>\n",
       "      <td>1</td>\n",
       "      <td>0</td>\n",
       "      <td>0</td>\n",
       "      <td>1</td>\n",
       "      <td>0</td>\n",
       "      <td>0</td>\n",
       "      <td>1</td>\n",
       "      <td>1</td>\n",
       "      <td>1</td>\n",
       "      <td>1</td>\n",
       "      <td>0</td>\n",
       "      <td>0</td>\n",
       "      <td>4</td>\n",
       "      <td>0</td>\n",
       "      <td>0</td>\n",
       "      <td>1</td>\n",
       "      <td>mammal</td>\n",
       "    </tr>\n",
       "    <tr>\n",
       "      <th>antelope</th>\n",
       "      <td>1</td>\n",
       "      <td>0</td>\n",
       "      <td>0</td>\n",
       "      <td>1</td>\n",
       "      <td>0</td>\n",
       "      <td>0</td>\n",
       "      <td>0</td>\n",
       "      <td>1</td>\n",
       "      <td>1</td>\n",
       "      <td>1</td>\n",
       "      <td>0</td>\n",
       "      <td>0</td>\n",
       "      <td>4</td>\n",
       "      <td>1</td>\n",
       "      <td>0</td>\n",
       "      <td>1</td>\n",
       "      <td>mammal</td>\n",
       "    </tr>\n",
       "    <tr>\n",
       "      <th>bass</th>\n",
       "      <td>0</td>\n",
       "      <td>0</td>\n",
       "      <td>1</td>\n",
       "      <td>0</td>\n",
       "      <td>0</td>\n",
       "      <td>1</td>\n",
       "      <td>1</td>\n",
       "      <td>1</td>\n",
       "      <td>1</td>\n",
       "      <td>0</td>\n",
       "      <td>0</td>\n",
       "      <td>1</td>\n",
       "      <td>0</td>\n",
       "      <td>1</td>\n",
       "      <td>0</td>\n",
       "      <td>0</td>\n",
       "      <td>fish</td>\n",
       "    </tr>\n",
       "    <tr>\n",
       "      <th>bear</th>\n",
       "      <td>1</td>\n",
       "      <td>0</td>\n",
       "      <td>0</td>\n",
       "      <td>1</td>\n",
       "      <td>0</td>\n",
       "      <td>0</td>\n",
       "      <td>1</td>\n",
       "      <td>1</td>\n",
       "      <td>1</td>\n",
       "      <td>1</td>\n",
       "      <td>0</td>\n",
       "      <td>0</td>\n",
       "      <td>4</td>\n",
       "      <td>0</td>\n",
       "      <td>0</td>\n",
       "      <td>1</td>\n",
       "      <td>mammal</td>\n",
       "    </tr>\n",
       "    <tr>\n",
       "      <th>boar</th>\n",
       "      <td>1</td>\n",
       "      <td>0</td>\n",
       "      <td>0</td>\n",
       "      <td>1</td>\n",
       "      <td>0</td>\n",
       "      <td>0</td>\n",
       "      <td>1</td>\n",
       "      <td>1</td>\n",
       "      <td>1</td>\n",
       "      <td>1</td>\n",
       "      <td>0</td>\n",
       "      <td>0</td>\n",
       "      <td>4</td>\n",
       "      <td>1</td>\n",
       "      <td>0</td>\n",
       "      <td>1</td>\n",
       "      <td>mammal</td>\n",
       "    </tr>\n",
       "  </tbody>\n",
       "</table>\n",
       "</div>"
      ],
      "text/plain": [
       "          hair  feathers  eggs  milk  airborne  aquatic  predator  toothed  \\\n",
       "animal                                                                       \n",
       "aardvark     1         0     0     1         0        0         1        1   \n",
       "antelope     1         0     0     1         0        0         0        1   \n",
       "bass         0         0     1     0         0        1         1        1   \n",
       "bear         1         0     0     1         0        0         1        1   \n",
       "boar         1         0     0     1         0        0         1        1   \n",
       "\n",
       "          backbone  breathes  venomous  fins  legs  tail  domestic  catsize  \\\n",
       "animal                                                                        \n",
       "aardvark         1         1         0     0     4     0         0        1   \n",
       "antelope         1         1         0     0     4     1         0        1   \n",
       "bass             1         0         0     1     0     1         0        0   \n",
       "bear             1         1         0     0     4     0         0        1   \n",
       "boar             1         1         0     0     4     1         0        1   \n",
       "\n",
       "            type  \n",
       "animal            \n",
       "aardvark  mammal  \n",
       "antelope  mammal  \n",
       "bass        fish  \n",
       "bear      mammal  \n",
       "boar      mammal  "
      ]
     },
     "execution_count": 4,
     "metadata": {},
     "output_type": "execute_result"
    }
   ],
   "source": [
    "data = pd.read_csv('zoo.csv',index_col=0)\n",
    "data.head()"
   ]
  },
  {
   "cell_type": "code",
   "execution_count": 16,
   "id": "e761a23b",
   "metadata": {},
   "outputs": [
    {
     "data": {
      "text/plain": [
       "hair        0\n",
       "feathers    0\n",
       "eggs        0\n",
       "milk        0\n",
       "airborne    0\n",
       "aquatic     0\n",
       "predator    0\n",
       "toothed     0\n",
       "backbone    0\n",
       "breathes    0\n",
       "venomous    0\n",
       "fins        0\n",
       "legs        0\n",
       "tail        0\n",
       "domestic    0\n",
       "catsize     0\n",
       "type        0\n",
       "typeNum     0\n",
       "dtype: int64"
      ]
     },
     "execution_count": 16,
     "metadata": {},
     "output_type": "execute_result"
    }
   ],
   "source": [
    "data.isnull().sum()"
   ]
  },
  {
   "cell_type": "markdown",
   "id": "44100a41",
   "metadata": {},
   "source": [
    "# After understanding data\n",
    "\n",
    "        After reading the data we could understand that out target varable is categorical so , we are converting it into ordinal"
   ]
  },
  {
   "cell_type": "code",
   "execution_count": 6,
   "id": "13cb8ecc",
   "metadata": {},
   "outputs": [
    {
     "data": {
      "text/plain": [
       "array(['mammal', 'fish', 'bird', 'invertebrate', 'insect', 'amphibian',\n",
       "       'reptile'], dtype=object)"
      ]
     },
     "execution_count": 6,
     "metadata": {},
     "output_type": "execute_result"
    }
   ],
   "source": [
    "data.type.unique()"
   ]
  },
  {
   "cell_type": "code",
   "execution_count": 15,
   "id": "4e1042d4",
   "metadata": {},
   "outputs": [
    {
     "data": {
      "text/plain": [
       "mammal          41\n",
       "bird            20\n",
       "fish            13\n",
       "invertebrate    10\n",
       "insect           8\n",
       "reptile          5\n",
       "amphibian        4\n",
       "Name: type, dtype: int64"
      ]
     },
     "execution_count": 15,
     "metadata": {},
     "output_type": "execute_result"
    }
   ],
   "source": [
    "data.type.value_counts()"
   ]
  },
  {
   "cell_type": "markdown",
   "id": "2941e465",
   "metadata": {},
   "source": [
    "# Data Preprocessing"
   ]
  },
  {
   "cell_type": "code",
   "execution_count": 77,
   "id": "ae692123",
   "metadata": {},
   "outputs": [],
   "source": [
    "data['typeNum'] = 0\n",
    "data.typeNum    =   np.where(data['type']=='amphibian', 0,\n",
    "                    np.where(data['type']=='bird', 1,\n",
    "                    np.where(data['type']=='fish', 2,\n",
    "                    np.where(data['type']=='insect', 3,\n",
    "                    np.where(data['type']=='invertebrate', 4,\n",
    "                    np.where(data['type']=='mammal', 5, 6))))))"
   ]
  },
  {
   "cell_type": "code",
   "execution_count": 72,
   "id": "9abf5a1d",
   "metadata": {},
   "outputs": [
    {
     "data": {
      "text/plain": [
       "5    41\n",
       "1    20\n",
       "2    13\n",
       "4    10\n",
       "3     8\n",
       "6     5\n",
       "0     4\n",
       "Name: typeNum, dtype: int64"
      ]
     },
     "execution_count": 72,
     "metadata": {},
     "output_type": "execute_result"
    }
   ],
   "source": [
    "data.typeNum.value_counts()"
   ]
  },
  {
   "cell_type": "code",
   "execution_count": 20,
   "id": "6eef8ada",
   "metadata": {},
   "outputs": [],
   "source": [
    "independent = data.drop(['type', 'typeNum'],axis=1)\n",
    "\n",
    "Input = independent.values\n",
    "Output = data.typeNum.values"
   ]
  },
  {
   "cell_type": "code",
   "execution_count": 22,
   "id": "3d4b5a6a",
   "metadata": {},
   "outputs": [],
   "source": [
    "from sklearn.model_selection import train_test_split\n",
    "\n",
    "x_train, x_test, y_train, y_test = train_test_split(Input, Output, \n",
    "                                                    test_size=0.2, random_state=2, \n",
    "                                                    shuffle=True, stratify=data['typeNum'])"
   ]
  },
  {
   "cell_type": "code",
   "execution_count": 25,
   "id": "90e760b4",
   "metadata": {},
   "outputs": [
    {
     "data": {
      "text/plain": [
       "DecisionTreeClassifier()"
      ]
     },
     "execution_count": 25,
     "metadata": {},
     "output_type": "execute_result"
    }
   ],
   "source": [
    "from sklearn.tree import DecisionTreeClassifier\n",
    "\n",
    "model = DecisionTreeClassifier(criterion='gini', splitter='best')\n",
    "model.fit(x_train, y_train)"
   ]
  },
  {
   "cell_type": "code",
   "execution_count": 26,
   "id": "d3809a36",
   "metadata": {},
   "outputs": [],
   "source": [
    "TrainPred = model.predict(x_train)\n",
    "TestPred = model.predict(x_test)\n"
   ]
  },
  {
   "cell_type": "markdown",
   "id": "784986b2",
   "metadata": {},
   "source": [
    "# Model Evaluation"
   ]
  },
  {
   "cell_type": "code",
   "execution_count": 27,
   "id": "d83645d8",
   "metadata": {},
   "outputs": [],
   "source": [
    "from sklearn.metrics import accuracy_score\n",
    "from sklearn.metrics import confusion_matrix"
   ]
  },
  {
   "cell_type": "markdown",
   "id": "46e122e1",
   "metadata": {},
   "source": [
    "        Training Accuracy"
   ]
  },
  {
   "cell_type": "code",
   "execution_count": 29,
   "id": "9c84f115",
   "metadata": {},
   "outputs": [
    {
     "name": "stdout",
     "output_type": "stream",
     "text": [
      "1.0\n"
     ]
    }
   ],
   "source": [
    "print(accuracy_score(y_train, TrainPred))"
   ]
  },
  {
   "cell_type": "code",
   "execution_count": 34,
   "id": "8df09d62",
   "metadata": {},
   "outputs": [
    {
     "name": "stdout",
     "output_type": "stream",
     "text": [
      "[[ 3  0  0  0  0  0  0]\n",
      " [ 0 16  0  0  0  0  0]\n",
      " [ 0  0 10  0  0  0  0]\n",
      " [ 0  0  0  6  0  0  0]\n",
      " [ 0  0  0  0  8  0  0]\n",
      " [ 0  0  0  0  0 33  0]\n",
      " [ 0  0  0  0  0  0  4]]\n"
     ]
    }
   ],
   "source": [
    "print(confusion_matrix(y_train, TrainPred))"
   ]
  },
  {
   "cell_type": "markdown",
   "id": "3d04e812",
   "metadata": {},
   "source": [
    "        Testing Accuracy"
   ]
  },
  {
   "cell_type": "code",
   "execution_count": 36,
   "id": "679fca1e",
   "metadata": {},
   "outputs": [
    {
     "name": "stdout",
     "output_type": "stream",
     "text": [
      "0.9523809523809523\n"
     ]
    }
   ],
   "source": [
    "print(accuracy_score(y_test, TestPred))"
   ]
  },
  {
   "cell_type": "code",
   "execution_count": 37,
   "id": "b74db73b",
   "metadata": {},
   "outputs": [
    {
     "name": "stdout",
     "output_type": "stream",
     "text": [
      "[[1 0 0 0 0 0 0]\n",
      " [0 4 0 0 0 0 0]\n",
      " [0 0 3 0 0 0 0]\n",
      " [0 0 0 1 1 0 0]\n",
      " [0 0 0 0 2 0 0]\n",
      " [0 0 0 0 0 8 0]\n",
      " [0 0 0 0 0 0 1]]\n"
     ]
    }
   ],
   "source": [
    "print(confusion_matrix(y_test, TestPred))"
   ]
  },
  {
   "cell_type": "markdown",
   "id": "07f36d6d",
   "metadata": {},
   "source": [
    "# Saving the result in CSV"
   ]
  },
  {
   "cell_type": "code",
   "execution_count": 40,
   "id": "d60370ca",
   "metadata": {},
   "outputs": [
    {
     "data": {
      "text/plain": [
       "array(['hair', 'feathers', 'eggs', 'milk', 'airborne', 'aquatic',\n",
       "       'predator', 'toothed', 'backbone', 'breathes', 'venomous', 'fins',\n",
       "       'legs', 'tail', 'domestic', 'catsize'], dtype=object)"
      ]
     },
     "execution_count": 40,
     "metadata": {},
     "output_type": "execute_result"
    }
   ],
   "source": [
    "header = data.drop(['type','typeNum'], axis=1).columns.values\n",
    "header"
   ]
  },
  {
   "cell_type": "code",
   "execution_count": 50,
   "id": "d199bcbe",
   "metadata": {},
   "outputs": [],
   "source": [
    "result = pd.concat([pd.DataFrame(x_test, columns=header), pd.Series(y_test, name='type'), pd.Series(TestPred, name='pred_type')], axis=1)\n",
    "result.to_csv('zoo-predict.csv', index_label='SNo')"
   ]
  },
  {
   "cell_type": "code",
   "execution_count": 51,
   "id": "251f713f",
   "metadata": {},
   "outputs": [
    {
     "name": "stdout",
     "output_type": "stream",
     "text": [
      "lesson_01.ipynb zoo-predict.csv zoo.csv\r\n"
     ]
    }
   ],
   "source": [
    "!ls"
   ]
  },
  {
   "cell_type": "code",
   "execution_count": 52,
   "id": "0f717ea1",
   "metadata": {},
   "outputs": [
    {
     "data": {
      "text/html": [
       "<div>\n",
       "<style scoped>\n",
       "    .dataframe tbody tr th:only-of-type {\n",
       "        vertical-align: middle;\n",
       "    }\n",
       "\n",
       "    .dataframe tbody tr th {\n",
       "        vertical-align: top;\n",
       "    }\n",
       "\n",
       "    .dataframe thead th {\n",
       "        text-align: right;\n",
       "    }\n",
       "</style>\n",
       "<table border=\"1\" class=\"dataframe\">\n",
       "  <thead>\n",
       "    <tr style=\"text-align: right;\">\n",
       "      <th></th>\n",
       "      <th>SNo</th>\n",
       "      <th>hair</th>\n",
       "      <th>feathers</th>\n",
       "      <th>eggs</th>\n",
       "      <th>milk</th>\n",
       "      <th>airborne</th>\n",
       "      <th>aquatic</th>\n",
       "      <th>predator</th>\n",
       "      <th>toothed</th>\n",
       "      <th>backbone</th>\n",
       "      <th>breathes</th>\n",
       "      <th>venomous</th>\n",
       "      <th>fins</th>\n",
       "      <th>legs</th>\n",
       "      <th>tail</th>\n",
       "      <th>domestic</th>\n",
       "      <th>catsize</th>\n",
       "      <th>type</th>\n",
       "      <th>pred_type</th>\n",
       "    </tr>\n",
       "  </thead>\n",
       "  <tbody>\n",
       "    <tr>\n",
       "      <th>0</th>\n",
       "      <td>0</td>\n",
       "      <td>0</td>\n",
       "      <td>0</td>\n",
       "      <td>1</td>\n",
       "      <td>0</td>\n",
       "      <td>0</td>\n",
       "      <td>1</td>\n",
       "      <td>1</td>\n",
       "      <td>1</td>\n",
       "      <td>1</td>\n",
       "      <td>0</td>\n",
       "      <td>0</td>\n",
       "      <td>1</td>\n",
       "      <td>0</td>\n",
       "      <td>1</td>\n",
       "      <td>0</td>\n",
       "      <td>0</td>\n",
       "      <td>2</td>\n",
       "      <td>2</td>\n",
       "    </tr>\n",
       "    <tr>\n",
       "      <th>1</th>\n",
       "      <td>1</td>\n",
       "      <td>0</td>\n",
       "      <td>0</td>\n",
       "      <td>1</td>\n",
       "      <td>0</td>\n",
       "      <td>0</td>\n",
       "      <td>0</td>\n",
       "      <td>1</td>\n",
       "      <td>1</td>\n",
       "      <td>1</td>\n",
       "      <td>1</td>\n",
       "      <td>0</td>\n",
       "      <td>0</td>\n",
       "      <td>0</td>\n",
       "      <td>1</td>\n",
       "      <td>0</td>\n",
       "      <td>0</td>\n",
       "      <td>6</td>\n",
       "      <td>6</td>\n",
       "    </tr>\n",
       "    <tr>\n",
       "      <th>2</th>\n",
       "      <td>2</td>\n",
       "      <td>0</td>\n",
       "      <td>1</td>\n",
       "      <td>1</td>\n",
       "      <td>0</td>\n",
       "      <td>1</td>\n",
       "      <td>0</td>\n",
       "      <td>0</td>\n",
       "      <td>0</td>\n",
       "      <td>1</td>\n",
       "      <td>1</td>\n",
       "      <td>0</td>\n",
       "      <td>0</td>\n",
       "      <td>2</td>\n",
       "      <td>1</td>\n",
       "      <td>0</td>\n",
       "      <td>0</td>\n",
       "      <td>1</td>\n",
       "      <td>1</td>\n",
       "    </tr>\n",
       "    <tr>\n",
       "      <th>3</th>\n",
       "      <td>3</td>\n",
       "      <td>1</td>\n",
       "      <td>0</td>\n",
       "      <td>0</td>\n",
       "      <td>1</td>\n",
       "      <td>0</td>\n",
       "      <td>1</td>\n",
       "      <td>1</td>\n",
       "      <td>1</td>\n",
       "      <td>1</td>\n",
       "      <td>1</td>\n",
       "      <td>0</td>\n",
       "      <td>1</td>\n",
       "      <td>0</td>\n",
       "      <td>0</td>\n",
       "      <td>0</td>\n",
       "      <td>1</td>\n",
       "      <td>5</td>\n",
       "      <td>5</td>\n",
       "    </tr>\n",
       "    <tr>\n",
       "      <th>4</th>\n",
       "      <td>4</td>\n",
       "      <td>0</td>\n",
       "      <td>1</td>\n",
       "      <td>1</td>\n",
       "      <td>0</td>\n",
       "      <td>1</td>\n",
       "      <td>0</td>\n",
       "      <td>0</td>\n",
       "      <td>0</td>\n",
       "      <td>1</td>\n",
       "      <td>1</td>\n",
       "      <td>0</td>\n",
       "      <td>0</td>\n",
       "      <td>2</td>\n",
       "      <td>1</td>\n",
       "      <td>0</td>\n",
       "      <td>0</td>\n",
       "      <td>1</td>\n",
       "      <td>1</td>\n",
       "    </tr>\n",
       "  </tbody>\n",
       "</table>\n",
       "</div>"
      ],
      "text/plain": [
       "   SNo  hair  feathers  eggs  milk  airborne  aquatic  predator  toothed  \\\n",
       "0    0     0         0     1     0         0        1         1        1   \n",
       "1    1     0         0     1     0         0        0         1        1   \n",
       "2    2     0         1     1     0         1        0         0        0   \n",
       "3    3     1         0     0     1         0        1         1        1   \n",
       "4    4     0         1     1     0         1        0         0        0   \n",
       "\n",
       "   backbone  breathes  venomous  fins  legs  tail  domestic  catsize  type  \\\n",
       "0         1         0         0     1     0     1         0        0     2   \n",
       "1         1         1         0     0     0     1         0        0     6   \n",
       "2         1         1         0     0     2     1         0        0     1   \n",
       "3         1         1         0     1     0     0         0        1     5   \n",
       "4         1         1         0     0     2     1         0        0     1   \n",
       "\n",
       "   pred_type  \n",
       "0          2  \n",
       "1          6  \n",
       "2          1  \n",
       "3          5  \n",
       "4          1  "
      ]
     },
     "execution_count": 52,
     "metadata": {},
     "output_type": "execute_result"
    }
   ],
   "source": [
    "res = pd.read_csv('zoo-predict.csv')\n",
    "res.head()"
   ]
  },
  {
   "cell_type": "markdown",
   "id": "b51fc295",
   "metadata": {},
   "source": [
    "# Saving the model and PDF"
   ]
  },
  {
   "cell_type": "code",
   "execution_count": 67,
   "id": "a78268b9",
   "metadata": {},
   "outputs": [
    {
     "data": {
      "text/plain": [
       "'zoo_model.pdf'"
      ]
     },
     "execution_count": 67,
     "metadata": {},
     "output_type": "execute_result"
    }
   ],
   "source": [
    "from sklearn import tree\n",
    "import graphviz\n",
    "\n",
    "# data.typeNum    =   np.where(data['type']=='amphibian', 0,\n",
    "#                     np.where(data['type']=='bird', 1,\n",
    "#                     np.where(data['type']=='fish', 2,\n",
    "#                     np.where(data['type']=='insect', 3,\n",
    "#                     np.where(data['type']=='invertebrate', 4,\n",
    "#                     np.where(data['type']=='mammal', 5, 6))))))\n",
    "\n",
    "saved = tree.export_graphviz(model, out_file=None, feature_names=header, \n",
    "                                                    class_names=['amphibian', 'bird', 'fish', 'insect', 'invertebrate', 'mammal', 'reptile'], \n",
    "                                                    filled=True, rounded=True, special_characters=True)\n",
    "graph = graphviz.Source(saved)\n",
    "graph.render(\"zoo_model\")"
   ]
  }
 ],
 "metadata": {
  "kernelspec": {
   "display_name": "Python 3 (ipykernel)",
   "language": "python",
   "name": "python3"
  },
  "language_info": {
   "codemirror_mode": {
    "name": "ipython",
    "version": 3
   },
   "file_extension": ".py",
   "mimetype": "text/x-python",
   "name": "python",
   "nbconvert_exporter": "python",
   "pygments_lexer": "ipython3",
   "version": "3.7.12"
  }
 },
 "nbformat": 4,
 "nbformat_minor": 5
}
