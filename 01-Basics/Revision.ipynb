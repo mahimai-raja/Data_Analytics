{
 "cells": [
  {
   "cell_type": "markdown",
   "id": "bd48ff47",
   "metadata": {},
   "source": [
    "# Data Manipulation Revision \n"
   ]
  },
  {
   "cell_type": "code",
   "execution_count": 2,
   "id": "e0169702",
   "metadata": {},
   "outputs": [],
   "source": [
    "import pandas as pd\n",
    "import numpy as np\n",
    "import matplotlib.pyplot as plt\n"
   ]
  },
  {
   "cell_type": "markdown",
   "id": "96420411",
   "metadata": {},
   "source": [
    "# Dataframes"
   ]
  },
  {
   "cell_type": "code",
   "execution_count": 13,
   "id": "fa685ffa",
   "metadata": {},
   "outputs": [
    {
     "data": {
      "text/html": [
       "<div>\n",
       "<style scoped>\n",
       "    .dataframe tbody tr th:only-of-type {\n",
       "        vertical-align: middle;\n",
       "    }\n",
       "\n",
       "    .dataframe tbody tr th {\n",
       "        vertical-align: top;\n",
       "    }\n",
       "\n",
       "    .dataframe thead th {\n",
       "        text-align: right;\n",
       "    }\n",
       "</style>\n",
       "<table border=\"1\" class=\"dataframe\">\n",
       "  <thead>\n",
       "    <tr style=\"text-align: right;\">\n",
       "      <th></th>\n",
       "      <th>1</th>\n",
       "      <th>2</th>\n",
       "    </tr>\n",
       "  </thead>\n",
       "  <tbody>\n",
       "    <tr>\n",
       "      <th>0</th>\n",
       "      <td>Hi</td>\n",
       "      <td>Hello</td>\n",
       "    </tr>\n",
       "    <tr>\n",
       "      <th>1</th>\n",
       "      <td>one</td>\n",
       "      <td>two</td>\n",
       "    </tr>\n",
       "  </tbody>\n",
       "</table>\n",
       "</div>"
      ],
      "text/plain": [
       "     1      2\n",
       "0   Hi  Hello\n",
       "1  one    two"
      ]
     },
     "execution_count": 13,
     "metadata": {},
     "output_type": "execute_result"
    }
   ],
   "source": [
    "df = pd.DataFrame([['Hi','Hello'],['one','two']],columns=[1,2])\n",
    "df"
   ]
  },
  {
   "cell_type": "code",
   "execution_count": 8,
   "id": "4b936692",
   "metadata": {},
   "outputs": [
    {
     "data": {
      "text/plain": [
       "0     Hi\n",
       "1    one\n",
       "Name: 1, dtype: object"
      ]
     },
     "execution_count": 8,
     "metadata": {},
     "output_type": "execute_result"
    }
   ],
   "source": [
    "df[1]"
   ]
  },
  {
   "cell_type": "code",
   "execution_count": 11,
   "id": "edb7745b",
   "metadata": {},
   "outputs": [
    {
     "data": {
      "text/plain": [
       "'one'"
      ]
     },
     "execution_count": 11,
     "metadata": {},
     "output_type": "execute_result"
    }
   ],
   "source": [
    "df[1].iloc[1]"
   ]
  },
  {
   "cell_type": "code",
   "execution_count": 16,
   "id": "43c87c09",
   "metadata": {},
   "outputs": [
    {
     "data": {
      "text/plain": [
       "(2, 2)"
      ]
     },
     "execution_count": 16,
     "metadata": {},
     "output_type": "execute_result"
    }
   ],
   "source": [
    "df.shape"
   ]
  },
  {
   "cell_type": "markdown",
   "id": "70696ed4",
   "metadata": {},
   "source": [
    "# CSV File "
   ]
  },
  {
   "cell_type": "code",
   "execution_count": 35,
   "id": "43927d96",
   "metadata": {},
   "outputs": [
    {
     "data": {
      "text/html": [
       "<div>\n",
       "<style scoped>\n",
       "    .dataframe tbody tr th:only-of-type {\n",
       "        vertical-align: middle;\n",
       "    }\n",
       "\n",
       "    .dataframe tbody tr th {\n",
       "        vertical-align: top;\n",
       "    }\n",
       "\n",
       "    .dataframe thead th {\n",
       "        text-align: right;\n",
       "    }\n",
       "</style>\n",
       "<table border=\"1\" class=\"dataframe\">\n",
       "  <thead>\n",
       "    <tr style=\"text-align: right;\">\n",
       "      <th></th>\n",
       "      <th>Family</th>\n",
       "      <th>Scientific name</th>\n",
       "      <th>English name</th>\n",
       "      <th>Swedish name</th>\n",
       "      <th>Habitat</th>\n",
       "      <th>Occurrence</th>\n",
       "      <th>Red List Status</th>\n",
       "    </tr>\n",
       "  </thead>\n",
       "  <tbody>\n",
       "    <tr>\n",
       "      <th>0</th>\n",
       "      <td>Paralepididae (Barracudina)</td>\n",
       "      <td>Arctozenus risso</td>\n",
       "      <td>NaN</td>\n",
       "      <td>Mindre laxtobis</td>\n",
       "      <td>Marine</td>\n",
       "      <td>Sporadic</td>\n",
       "      <td>Not evaluated</td>\n",
       "    </tr>\n",
       "    <tr>\n",
       "      <th>1</th>\n",
       "      <td>Paralepididae</td>\n",
       "      <td>Magnisudis atlantica</td>\n",
       "      <td>NaN</td>\n",
       "      <td>Laxtobis</td>\n",
       "      <td>Marine</td>\n",
       "      <td>Sporadic</td>\n",
       "      <td>Not evaluated</td>\n",
       "    </tr>\n",
       "    <tr>\n",
       "      <th>2</th>\n",
       "      <td>Acipenseridae</td>\n",
       "      <td>Acipenser baerii</td>\n",
       "      <td>Sturgeon</td>\n",
       "      <td>Sibirisk stör</td>\n",
       "      <td>brackish water</td>\n",
       "      <td>Introduced; not established</td>\n",
       "      <td>Not evaluated</td>\n",
       "    </tr>\n",
       "    <tr>\n",
       "      <th>3</th>\n",
       "      <td>Acipenseridae</td>\n",
       "      <td>Acipenser gueldenstaedti</td>\n",
       "      <td>NaN</td>\n",
       "      <td>Rysk stör</td>\n",
       "      <td>brackish water</td>\n",
       "      <td>Introduced; not established</td>\n",
       "      <td>Not evaluated</td>\n",
       "    </tr>\n",
       "    <tr>\n",
       "      <th>4</th>\n",
       "      <td>Acipenseridae</td>\n",
       "      <td>Acipenser ruthenus</td>\n",
       "      <td>NaN</td>\n",
       "      <td>Sterlett</td>\n",
       "      <td>Fresh water, brackish water</td>\n",
       "      <td>Introduced, not established</td>\n",
       "      <td>Not evaluated</td>\n",
       "    </tr>\n",
       "  </tbody>\n",
       "</table>\n",
       "</div>"
      ],
      "text/plain": [
       "                        Family           Scientific name English name  \\\n",
       "0  Paralepididae (Barracudina)          Arctozenus risso          NaN   \n",
       "1                Paralepididae      Magnisudis atlantica          NaN   \n",
       "2                Acipenseridae          Acipenser baerii     Sturgeon   \n",
       "3                Acipenseridae  Acipenser gueldenstaedti          NaN   \n",
       "4                Acipenseridae        Acipenser ruthenus          NaN   \n",
       "\n",
       "      Swedish name                      Habitat                   Occurrence  \\\n",
       "0  Mindre laxtobis                       Marine                     Sporadic   \n",
       "1         Laxtobis                       Marine                     Sporadic   \n",
       "2    Sibirisk stör               brackish water  Introduced; not established   \n",
       "3        Rysk stör               brackish water  Introduced; not established   \n",
       "4         Sterlett  Fresh water, brackish water  Introduced, not established   \n",
       "\n",
       "  Red List Status  \n",
       "0   Not evaluated  \n",
       "1   Not evaluated  \n",
       "2   Not evaluated  \n",
       "3   Not evaluated  \n",
       "4   Not evaluated  "
      ]
     },
     "execution_count": 35,
     "metadata": {},
     "output_type": "execute_result"
    }
   ],
   "source": [
    "data = pd.read_csv('fishes.csv')\n",
    "data.head()"
   ]
  },
  {
   "cell_type": "code",
   "execution_count": 57,
   "id": "88d87a5b",
   "metadata": {},
   "outputs": [
    {
     "name": "stdout",
     "output_type": "stream",
     "text": [
      "<class 'pandas.core.frame.DataFrame'>\n",
      "Int64Index: 121 entries, 2 to 251\n",
      "Data columns (total 7 columns):\n",
      " #   Column           Non-Null Count  Dtype \n",
      "---  ------           --------------  ----- \n",
      " 0   Family           121 non-null    object\n",
      " 1   Scientific name  121 non-null    object\n",
      " 2   English name     121 non-null    object\n",
      " 3   Swedish name     121 non-null    object\n",
      " 4   Habitat          121 non-null    object\n",
      " 5   Occurrence       121 non-null    object\n",
      " 6   Red List Status  121 non-null    object\n",
      "dtypes: object(7)\n",
      "memory usage: 11.6+ KB\n"
     ]
    }
   ],
   "source": [
    "data.info()"
   ]
  },
  {
   "cell_type": "code",
   "execution_count": 68,
   "id": "51682d0b",
   "metadata": {},
   "outputs": [
    {
     "data": {
      "text/html": [
       "<div>\n",
       "<style scoped>\n",
       "    .dataframe tbody tr th:only-of-type {\n",
       "        vertical-align: middle;\n",
       "    }\n",
       "\n",
       "    .dataframe tbody tr th {\n",
       "        vertical-align: top;\n",
       "    }\n",
       "\n",
       "    .dataframe thead th {\n",
       "        text-align: right;\n",
       "    }\n",
       "</style>\n",
       "<table border=\"1\" class=\"dataframe\">\n",
       "  <thead>\n",
       "    <tr style=\"text-align: right;\">\n",
       "      <th></th>\n",
       "      <th>Family</th>\n",
       "      <th>Scientific name</th>\n",
       "      <th>English name</th>\n",
       "      <th>Swedish name</th>\n",
       "      <th>Habitat</th>\n",
       "      <th>Occurrence</th>\n",
       "      <th>Red List Status</th>\n",
       "    </tr>\n",
       "  </thead>\n",
       "  <tbody>\n",
       "    <tr>\n",
       "      <th>count</th>\n",
       "      <td>121</td>\n",
       "      <td>121</td>\n",
       "      <td>121</td>\n",
       "      <td>121</td>\n",
       "      <td>121</td>\n",
       "      <td>121</td>\n",
       "      <td>121</td>\n",
       "    </tr>\n",
       "    <tr>\n",
       "      <th>unique</th>\n",
       "      <td>55</td>\n",
       "      <td>121</td>\n",
       "      <td>121</td>\n",
       "      <td>121</td>\n",
       "      <td>9</td>\n",
       "      <td>7</td>\n",
       "      <td>12</td>\n",
       "    </tr>\n",
       "    <tr>\n",
       "      <th>top</th>\n",
       "      <td>Cyprinidae</td>\n",
       "      <td>Acipenser baerii</td>\n",
       "      <td>Sturgeon</td>\n",
       "      <td>Sibirisk stör</td>\n",
       "      <td>Marine</td>\n",
       "      <td>Native and common</td>\n",
       "      <td>Not evaluated</td>\n",
       "    </tr>\n",
       "    <tr>\n",
       "      <th>freq</th>\n",
       "      <td>18</td>\n",
       "      <td>1</td>\n",
       "      <td>1</td>\n",
       "      <td>1</td>\n",
       "      <td>63</td>\n",
       "      <td>79</td>\n",
       "      <td>79</td>\n",
       "    </tr>\n",
       "  </tbody>\n",
       "</table>\n",
       "</div>"
      ],
      "text/plain": [
       "            Family   Scientific name English name   Swedish name Habitat  \\\n",
       "count          121               121          121            121     121   \n",
       "unique          55               121          121            121       9   \n",
       "top     Cyprinidae  Acipenser baerii     Sturgeon  Sibirisk stör  Marine   \n",
       "freq            18                 1            1              1      63   \n",
       "\n",
       "               Occurrence Red List Status  \n",
       "count                 121             121  \n",
       "unique                  7              12  \n",
       "top     Native and common   Not evaluated  \n",
       "freq                   79              79  "
      ]
     },
     "execution_count": 68,
     "metadata": {},
     "output_type": "execute_result"
    }
   ],
   "source": [
    "data.describe(include='all')"
   ]
  },
  {
   "cell_type": "code",
   "execution_count": 36,
   "id": "02dbdf9f",
   "metadata": {},
   "outputs": [
    {
     "data": {
      "text/html": [
       "<div>\n",
       "<style scoped>\n",
       "    .dataframe tbody tr th:only-of-type {\n",
       "        vertical-align: middle;\n",
       "    }\n",
       "\n",
       "    .dataframe tbody tr th {\n",
       "        vertical-align: top;\n",
       "    }\n",
       "\n",
       "    .dataframe thead th {\n",
       "        text-align: right;\n",
       "    }\n",
       "</style>\n",
       "<table border=\"1\" class=\"dataframe\">\n",
       "  <thead>\n",
       "    <tr style=\"text-align: right;\">\n",
       "      <th></th>\n",
       "      <th>Family</th>\n",
       "      <th>Scientific name</th>\n",
       "      <th>English name</th>\n",
       "      <th>Swedish name</th>\n",
       "      <th>Habitat</th>\n",
       "      <th>Occurrence</th>\n",
       "      <th>Red List Status</th>\n",
       "    </tr>\n",
       "  </thead>\n",
       "  <tbody>\n",
       "    <tr>\n",
       "      <th>0</th>\n",
       "      <td>False</td>\n",
       "      <td>False</td>\n",
       "      <td>True</td>\n",
       "      <td>False</td>\n",
       "      <td>False</td>\n",
       "      <td>False</td>\n",
       "      <td>False</td>\n",
       "    </tr>\n",
       "    <tr>\n",
       "      <th>1</th>\n",
       "      <td>False</td>\n",
       "      <td>False</td>\n",
       "      <td>True</td>\n",
       "      <td>False</td>\n",
       "      <td>False</td>\n",
       "      <td>False</td>\n",
       "      <td>False</td>\n",
       "    </tr>\n",
       "    <tr>\n",
       "      <th>2</th>\n",
       "      <td>False</td>\n",
       "      <td>False</td>\n",
       "      <td>False</td>\n",
       "      <td>False</td>\n",
       "      <td>False</td>\n",
       "      <td>False</td>\n",
       "      <td>False</td>\n",
       "    </tr>\n",
       "    <tr>\n",
       "      <th>3</th>\n",
       "      <td>False</td>\n",
       "      <td>False</td>\n",
       "      <td>True</td>\n",
       "      <td>False</td>\n",
       "      <td>False</td>\n",
       "      <td>False</td>\n",
       "      <td>False</td>\n",
       "    </tr>\n",
       "    <tr>\n",
       "      <th>4</th>\n",
       "      <td>False</td>\n",
       "      <td>False</td>\n",
       "      <td>True</td>\n",
       "      <td>False</td>\n",
       "      <td>False</td>\n",
       "      <td>False</td>\n",
       "      <td>False</td>\n",
       "    </tr>\n",
       "    <tr>\n",
       "      <th>...</th>\n",
       "      <td>...</td>\n",
       "      <td>...</td>\n",
       "      <td>...</td>\n",
       "      <td>...</td>\n",
       "      <td>...</td>\n",
       "      <td>...</td>\n",
       "      <td>...</td>\n",
       "    </tr>\n",
       "    <tr>\n",
       "      <th>247</th>\n",
       "      <td>False</td>\n",
       "      <td>False</td>\n",
       "      <td>False</td>\n",
       "      <td>True</td>\n",
       "      <td>False</td>\n",
       "      <td>False</td>\n",
       "      <td>False</td>\n",
       "    </tr>\n",
       "    <tr>\n",
       "      <th>248</th>\n",
       "      <td>False</td>\n",
       "      <td>False</td>\n",
       "      <td>True</td>\n",
       "      <td>True</td>\n",
       "      <td>False</td>\n",
       "      <td>False</td>\n",
       "      <td>False</td>\n",
       "    </tr>\n",
       "    <tr>\n",
       "      <th>249</th>\n",
       "      <td>False</td>\n",
       "      <td>False</td>\n",
       "      <td>True</td>\n",
       "      <td>True</td>\n",
       "      <td>False</td>\n",
       "      <td>False</td>\n",
       "      <td>False</td>\n",
       "    </tr>\n",
       "    <tr>\n",
       "      <th>250</th>\n",
       "      <td>False</td>\n",
       "      <td>False</td>\n",
       "      <td>False</td>\n",
       "      <td>True</td>\n",
       "      <td>False</td>\n",
       "      <td>False</td>\n",
       "      <td>False</td>\n",
       "    </tr>\n",
       "    <tr>\n",
       "      <th>251</th>\n",
       "      <td>False</td>\n",
       "      <td>False</td>\n",
       "      <td>False</td>\n",
       "      <td>False</td>\n",
       "      <td>False</td>\n",
       "      <td>False</td>\n",
       "      <td>False</td>\n",
       "    </tr>\n",
       "  </tbody>\n",
       "</table>\n",
       "<p>252 rows × 7 columns</p>\n",
       "</div>"
      ],
      "text/plain": [
       "     Family  Scientific name  English name  Swedish name  Habitat  Occurrence  \\\n",
       "0     False            False          True         False    False       False   \n",
       "1     False            False          True         False    False       False   \n",
       "2     False            False         False         False    False       False   \n",
       "3     False            False          True         False    False       False   \n",
       "4     False            False          True         False    False       False   \n",
       "..      ...              ...           ...           ...      ...         ...   \n",
       "247   False            False         False          True    False       False   \n",
       "248   False            False          True          True    False       False   \n",
       "249   False            False          True          True    False       False   \n",
       "250   False            False         False          True    False       False   \n",
       "251   False            False         False         False    False       False   \n",
       "\n",
       "     Red List Status  \n",
       "0              False  \n",
       "1              False  \n",
       "2              False  \n",
       "3              False  \n",
       "4              False  \n",
       "..               ...  \n",
       "247            False  \n",
       "248            False  \n",
       "249            False  \n",
       "250            False  \n",
       "251            False  \n",
       "\n",
       "[252 rows x 7 columns]"
      ]
     },
     "execution_count": 36,
     "metadata": {},
     "output_type": "execute_result"
    }
   ],
   "source": [
    "data.isnull()"
   ]
  },
  {
   "cell_type": "code",
   "execution_count": 37,
   "id": "b207a5da",
   "metadata": {},
   "outputs": [
    {
     "data": {
      "text/plain": [
       "Family               0\n",
       "Scientific name      0\n",
       "English name       114\n",
       "Swedish name        53\n",
       "Habitat              0\n",
       "Occurrence           0\n",
       "Red List Status      1\n",
       "dtype: int64"
      ]
     },
     "execution_count": 37,
     "metadata": {},
     "output_type": "execute_result"
    }
   ],
   "source": [
    "data.isna().sum()"
   ]
  },
  {
   "cell_type": "code",
   "execution_count": 40,
   "id": "322964d0",
   "metadata": {},
   "outputs": [
    {
     "data": {
      "text/plain": [
       "(252,)"
      ]
     },
     "execution_count": 40,
     "metadata": {},
     "output_type": "execute_result"
    }
   ],
   "source": [
    "data['Family'].shape"
   ]
  },
  {
   "cell_type": "code",
   "execution_count": 41,
   "id": "123ea771",
   "metadata": {},
   "outputs": [],
   "source": [
    "data = data.dropna()"
   ]
  },
  {
   "cell_type": "code",
   "execution_count": 42,
   "id": "b8145050",
   "metadata": {},
   "outputs": [
    {
     "data": {
      "text/plain": [
       "Family             0\n",
       "Scientific name    0\n",
       "English name       0\n",
       "Swedish name       0\n",
       "Habitat            0\n",
       "Occurrence         0\n",
       "Red List Status    0\n",
       "dtype: int64"
      ]
     },
     "execution_count": 42,
     "metadata": {},
     "output_type": "execute_result"
    }
   ],
   "source": [
    "data.isna().sum()"
   ]
  },
  {
   "cell_type": "code",
   "execution_count": 46,
   "id": "bbc776d3",
   "metadata": {},
   "outputs": [
    {
     "data": {
      "text/plain": [
       "(121,)"
      ]
     },
     "execution_count": 46,
     "metadata": {},
     "output_type": "execute_result"
    }
   ],
   "source": [
    "data['Family'].shape"
   ]
  },
  {
   "cell_type": "code",
   "execution_count": 43,
   "id": "7c43b89a",
   "metadata": {},
   "outputs": [
    {
     "data": {
      "text/plain": [
       "Index(['Family', 'Scientific name', 'English name', 'Swedish name', 'Habitat',\n",
       "       'Occurrence', 'Red List Status'],\n",
       "      dtype='object')"
      ]
     },
     "execution_count": 43,
     "metadata": {},
     "output_type": "execute_result"
    }
   ],
   "source": [
    "data.columns"
   ]
  },
  {
   "cell_type": "code",
   "execution_count": 44,
   "id": "7ab878b6",
   "metadata": {},
   "outputs": [
    {
     "data": {
      "text/plain": [
       "2      Acipenseridae\n",
       "6      Acipenseridae\n",
       "7        Anguillidae\n",
       "8          Congridae\n",
       "9      Nemichthyidae\n",
       "           ...      \n",
       "241       Salmonidae\n",
       "242       Salmonidae\n",
       "243       Salmonidae\n",
       "246        Siluridae\n",
       "251           Zeidae\n",
       "Name: Family, Length: 121, dtype: object"
      ]
     },
     "execution_count": 44,
     "metadata": {},
     "output_type": "execute_result"
    }
   ],
   "source": [
    "data['Family']\n"
   ]
  },
  {
   "cell_type": "code",
   "execution_count": 45,
   "id": "575d6ef4",
   "metadata": {},
   "outputs": [
    {
     "name": "stdout",
     "output_type": "stream",
     "text": [
      "<class 'pandas.core.series.Series'>\n"
     ]
    }
   ],
   "source": [
    "print(type(data['Family']))\n",
    "\n",
    "# So we could understand Dataframe is a combination of series "
   ]
  },
  {
   "cell_type": "code",
   "execution_count": 56,
   "id": "ac97cf83",
   "metadata": {},
   "outputs": [
    {
     "data": {
      "text/plain": [
       "Family                           Acipenseridae\n",
       "Scientific name               Acipenser baerii\n",
       "English name                          Sturgeon\n",
       "Swedish name                     Sibirisk stör\n",
       "Habitat                         brackish water\n",
       "Occurrence         Introduced; not established\n",
       "Red List Status                  Not evaluated\n",
       "Name: 2, dtype: object"
      ]
     },
     "execution_count": 56,
     "metadata": {},
     "output_type": "execute_result"
    }
   ],
   "source": [
    "data.iloc[0]"
   ]
  },
  {
   "cell_type": "code",
   "execution_count": null,
   "id": "79a62cc9",
   "metadata": {},
   "outputs": [],
   "source": []
  }
 ],
 "metadata": {
  "kernelspec": {
   "display_name": "Python 3 (ipykernel)",
   "language": "python",
   "name": "python3"
  },
  "language_info": {
   "codemirror_mode": {
    "name": "ipython",
    "version": 3
   },
   "file_extension": ".py",
   "mimetype": "text/x-python",
   "name": "python",
   "nbconvert_exporter": "python",
   "pygments_lexer": "ipython3",
   "version": "3.7.12"
  }
 },
 "nbformat": 4,
 "nbformat_minor": 5
}
