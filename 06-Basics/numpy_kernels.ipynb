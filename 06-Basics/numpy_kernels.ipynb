{
 "cells": [
  {
   "cell_type": "markdown",
   "id": "cd28e7c2",
   "metadata": {},
   "source": [
    "# Making Kernel with numpy array"
   ]
  },
  {
   "cell_type": "code",
   "execution_count": 1,
   "id": "cee1ed5d",
   "metadata": {},
   "outputs": [],
   "source": [
    "import numpy as np\n",
    "import matplotlib.pyplot as plt"
   ]
  },
  {
   "cell_type": "code",
   "execution_count": 27,
   "id": "e232f216",
   "metadata": {},
   "outputs": [
    {
     "data": {
      "text/plain": [
       "<matplotlib.image.AxesImage at 0x1645aae00>"
      ]
     },
     "execution_count": 27,
     "metadata": {},
     "output_type": "execute_result"
    },
    {
     "data": {
      "image/png": "[encoded data removed]",
      "text/plain": [
       "<Figure size 360x360 with 1 Axes>"
      ]
     },
     "metadata": {
      "needs_background": "light"
     },
     "output_type": "display_data"
    }
   ],
   "source": [
    "i1 = np.array([np.array([200,200]), np.array([200,200])])\n",
    "i2 = np.array([np.array([200,200]), np.array([0,0])])\n",
    "i3 = np.array([np.array([200,0]), np.array([200,0])])\n",
    "plt.figure(figsize=(5,5))\n",
    "plt.imshow(i1)"
   ]
  },
  {
   "cell_type": "code",
   "execution_count": 28,
   "id": "59d1e216",
   "metadata": {},
   "outputs": [
    {
     "data": {
      "text/plain": [
       "<matplotlib.image.AxesImage at 0x1646261a0>"
      ]
     },
     "execution_count": 28,
     "metadata": {},
     "output_type": "execute_result"
    },
    {
     "data": {
      "image/png": "[encoded data removed]",
      "text/plain": [
       "<Figure size 432x288 with 1 Axes>"
      ]
     },
     "metadata": {
      "needs_background": "light"
     },
     "output_type": "display_data"
    }
   ],
   "source": [
    "plt.imshow(i2)"
   ]
  },
  {
   "cell_type": "code",
   "execution_count": 29,
   "id": "501e70ad",
   "metadata": {},
   "outputs": [
    {
     "data": {
      "text/plain": [
       "<matplotlib.image.AxesImage at 0x1646918d0>"
      ]
     },
     "execution_count": 29,
     "metadata": {},
     "output_type": "execute_result"
    },
    {
     "data": {
      "image/png": "[encoded data removed]",
      "text/plain": [
       "<Figure size 432x288 with 1 Axes>"
      ]
     },
     "metadata": {
      "needs_background": "light"
     },
     "output_type": "display_data"
    }
   ],
   "source": [
    "plt.imshow(i3)"
   ]
  },
  {
   "cell_type": "code",
   "execution_count": 32,
   "id": "81085e01",
   "metadata": {},
   "outputs": [],
   "source": [
    "k_horizontal = np.array([np.array([2,2]),np.array([-2,-2]) ]) # this will make results negative, and thus -> 0 \n",
    "k_vertical = np.array([np.array([2,-2]),np.array([2,-2]) ]) # this will make results negative, and thus -> 0 \n",
    "def applyKernel(img, kernel):\n",
    "  return np.sum(np.multiply(img, kernel))  # DOT product \n",
    "\n",
    "found = lambda val: 'Edge Detected' if val>0 else 'No Edge Detected'\n"
   ]
  },
  {
   "cell_type": "code",
   "execution_count": 33,
   "id": "bb840186",
   "metadata": {},
   "outputs": [
    {
     "name": "stdout",
     "output_type": "stream",
     "text": [
      "Horizontal Kernel on Image 1\n",
      "No Edge Detected\n",
      "Vertical Kernel on Image 1\n",
      "No Edge Detected\n"
     ]
    },
    {
     "data": {
      "text/plain": [
       "<matplotlib.image.AxesImage at 0x164779f90>"
      ]
     },
     "execution_count": 33,
     "metadata": {},
     "output_type": "execute_result"
    },
    {
     "data": {
      "image/png": "[encoded data removed]",
      "text/plain": [
       "<Figure size 432x288 with 1 Axes>"
      ]
     },
     "metadata": {
      "needs_background": "light"
     },
     "output_type": "display_data"
    }
   ],
   "source": [
    "print('Horizontal Kernel on Image 1')\n",
    "print(found(applyKernel(i1, k_horizontal)))\n",
    "print('Vertical Kernel on Image 1')\n",
    "print(found(applyKernel(i1, k_vertical)))\n",
    "plt.axis('off')\n",
    "plt.imshow(i1)"
   ]
  },
  {
   "cell_type": "code",
   "execution_count": 34,
   "id": "6f2ba35e",
   "metadata": {},
   "outputs": [
    {
     "name": "stdout",
     "output_type": "stream",
     "text": [
      "Horizontal Kernel on Image 2\n",
      "Edge Detected\n",
      "Vertical Kernel on Image 1\n",
      "No Edge Detected\n"
     ]
    },
    {
     "data": {
      "text/plain": [
       "<matplotlib.image.AxesImage at 0x1647b7010>"
      ]
     },
     "execution_count": 34,
     "metadata": {},
     "output_type": "execute_result"
    },
    {
     "data": {
      "image/png": "[encoded data removed]",
      "text/plain": [
       "<Figure size 432x288 with 1 Axes>"
      ]
     },
     "metadata": {
      "needs_background": "light"
     },
     "output_type": "display_data"
    }
   ],
   "source": [
    "print('Horizontal Kernel on Image 2')\n",
    "print(found(applyKernel(i2, k_horizontal)))\n",
    "print('Vertical Kernel on Image 1')\n",
    "print(found(applyKernel(i2, k_vertical)))\n",
    "plt.axis('off')\n",
    "plt.imshow(i2)"
   ]
  },
  {
   "cell_type": "code",
   "execution_count": 35,
   "id": "14c9ae89",
   "metadata": {},
   "outputs": [
    {
     "name": "stdout",
     "output_type": "stream",
     "text": [
      "Horizontal Kernel on Image 3\n",
      "No Edge Detected\n",
      "Vertical Kernel on Image 1\n",
      "Edge Detected\n"
     ]
    },
    {
     "data": {
      "text/plain": [
       "<matplotlib.image.AxesImage at 0x16477a320>"
      ]
     },
     "execution_count": 35,
     "metadata": {},
     "output_type": "execute_result"
    },
    {
     "data": {
      "image/png": "[encoded data removed]",
      "text/plain": [
       "<Figure size 432x288 with 1 Axes>"
      ]
     },
     "metadata": {
      "needs_background": "light"
     },
     "output_type": "display_data"
    }
   ],
   "source": [
    "print('Horizontal Kernel on Image 3')\n",
    "print(found(applyKernel(i3, k_horizontal)))\n",
    "print('Vertical Kernel on Image 1')\n",
    "print(found(applyKernel(i3, k_vertical)))\n",
    "plt.axis('off')\n",
    "plt.imshow(i3)"
   ]
  },
  {
   "cell_type": "markdown",
   "id": "772d6fce",
   "metadata": {},
   "source": [
    "# Making Diagonal shape with pixels ( numpy )"
   ]
  },
  {
   "cell_type": "code",
   "execution_count": 26,
   "id": "caf44849",
   "metadata": {},
   "outputs": [
    {
     "data": {
      "text/plain": [
       "<matplotlib.image.AxesImage at 0x164542170>"
      ]
     },
     "execution_count": 26,
     "metadata": {},
     "output_type": "execute_result"
    },
    {
     "data": {
      "image/png": "[encoded data removed]",
      "text/plain": [
       "<Figure size 432x288 with 1 Axes>"
      ]
     },
     "metadata": {
      "needs_background": "light"
     },
     "output_type": "display_data"
    }
   ],
   "source": [
    "a = np.array([np.array([1,1]), np.array([0,1])])\n",
    "\n",
    "# a = np.array([np.array([1,1,1]), np.array([0,1,1]),np.array([0,0,1])])\n",
    "plt.imshow(a)"
   ]
  },
  {
   "cell_type": "code",
   "execution_count": null,
   "id": "b94d0720",
   "metadata": {},
   "outputs": [],
   "source": []
  }
 ],
 "metadata": {
  "kernelspec": {
   "display_name": "Python 3 (ipykernel)",
   "language": "python",
   "name": "python3"
  },
  "language_info": {
   "codemirror_mode": {
    "name": "ipython",
    "version": 3
   },
   "file_extension": ".py",
   "mimetype": "text/x-python",
   "name": "python",
   "nbconvert_exporter": "python",
   "pygments_lexer": "ipython3",
   "version": "3.10.5"
  }
 },
 "nbformat": 4,
 "nbformat_minor": 5
}
