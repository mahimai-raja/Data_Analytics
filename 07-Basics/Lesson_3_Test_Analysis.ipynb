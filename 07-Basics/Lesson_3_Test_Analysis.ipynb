{
 "cells": [
  {
   "cell_type": "markdown",
   "id": "b58af440",
   "metadata": {},
   "source": [
    "# Test Analysis"
   ]
  },
  {
   "cell_type": "code",
   "execution_count": 49,
   "id": "a8a69ef3",
   "metadata": {},
   "outputs": [],
   "source": [
    "import re\n",
    "import pandas as pd"
   ]
  },
  {
   "cell_type": "code",
   "execution_count": 75,
   "id": "7683e139",
   "metadata": {},
   "outputs": [],
   "source": [
    "pattern = '£ ?[0-9][0-9][0-9]?' # £ then SPACE-optional then digit then digit-optional \n",
    "\n",
    "document = 'My eggs cost £ 003, bread cost £20, vodka cost £ 395'\n",
    "\n",
    "match_pattern = 'eggs'"
   ]
  },
  {
   "cell_type": "code",
   "execution_count": 65,
   "id": "951d435f",
   "metadata": {},
   "outputs": [
    {
     "data": {
      "text/plain": [
       "['£ 003', '£20', '£ 395']"
      ]
     },
     "execution_count": 65,
     "metadata": {},
     "output_type": "execute_result"
    }
   ],
   "source": [
    "re.findall(pattern, document)"
   ]
  },
  {
   "cell_type": "code",
   "execution_count": 76,
   "id": "bcaafdf7",
   "metadata": {},
   "outputs": [
    {
     "name": "stdout",
     "output_type": "stream",
     "text": [
      "0     False\n",
      "1     False\n",
      "2     False\n",
      "3     False\n",
      "4     False\n",
      "5     False\n",
      "6     False\n",
      "7      True\n",
      "8     False\n",
      "9     False\n",
      "10    False\n",
      "11    False\n",
      "dtype: bool \n",
      "\n",
      "0        My\n",
      "1      eggs\n",
      "2      cost\n",
      "3         £\n",
      "4      003,\n",
      "5     bread\n",
      "6      cost\n",
      "7      £20,\n",
      "8     vodka\n",
      "9      cost\n",
      "10        £\n",
      "11      395\n",
      "dtype: object\n"
     ]
    }
   ],
   "source": [
    "document = document.split(' ')\n",
    "doc = pd.Series(document)\n",
    "print(doc.str.match(pattern),'\\n')\n",
    "print(doc)\n"
   ]
  },
  {
   "cell_type": "code",
   "execution_count": null,
   "id": "af760521",
   "metadata": {},
   "outputs": [],
   "source": []
  }
 ],
 "metadata": {
  "kernelspec": {
   "display_name": "Python 3 (ipykernel)",
   "language": "python",
   "name": "python3"
  },
  "language_info": {
   "codemirror_mode": {
    "name": "ipython",
    "version": 3
   },
   "file_extension": ".py",
   "mimetype": "text/x-python",
   "name": "python",
   "nbconvert_exporter": "python",
   "pygments_lexer": "ipython3",
   "version": "3.10.5"
  }
 },
 "nbformat": 4,
 "nbformat_minor": 5
}
