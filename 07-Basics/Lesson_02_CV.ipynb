{
 "cells": [
  {
   "cell_type": "markdown",
   "id": "f4c518b3",
   "metadata": {},
   "source": []
  },
  {
   "cell_type": "code",
   "execution_count": 1,
   "id": "41dd3a05",
   "metadata": {},
   "outputs": [],
   "source": [
    "from azure.cognitiveservices.vision.computervision import ComputerVisionClient\n",
    "from azure.cognitiveservices.vision.computervision.models import OperationStatusCodes\n",
    "from azure.cognitiveservices.vision.computervision.models import VisualFeatureTypes\n",
    "from msrest.authentication import CognitiveServicesCredentials\n",
    "\n",
    "from array import array\n",
    "import os\n",
    "from PIL import Image\n",
    "import sys\n",
    "import time"
   ]
  },
  {
   "cell_type": "code",
   "execution_count": 2,
   "id": "2516abd5",
   "metadata": {},
   "outputs": [],
   "source": [
    "subscription_key = \"d6d6bae3b5e74a13ab84025266c7d66b\"\n",
    "endpoint = \"https://hungryhippo.cognitiveservices.azure.com/\""
   ]
  },
  {
   "cell_type": "code",
   "execution_count": null,
   "id": "98c18fc2",
   "metadata": {},
   "outputs": [],
   "source": [
    "\"# ACCESS STORAGE ACCOUNT using following key\\n\",\n",
    "'# DefaultEndpointsProtocol=https;AccountName=madhuratcatcherprivate;AccountKey=fyYDZMmCyi2ciaBafoZ3Gg6d8y5tfBK/BMKQyp17dj7yRR2zf3sP44QVAnheq1KBY3usR2Xpz0mu+ASt1CaH2Q==;EndpointSuffix=core.windows.net   "
   ]
  },
  {
   "cell_type": "code",
   "execution_count": 3,
   "id": "fc43e102",
   "metadata": {},
   "outputs": [],
   "source": [
    "cvcredentials = CognitiveServicesCredentials(subscription_key)\n",
    "computervision_client = ComputerVisionClient(endpoint, cvcredentials)"
   ]
  },
  {
   "cell_type": "code",
   "execution_count": 16,
   "id": "b617ffd8",
   "metadata": {},
   "outputs": [
    {
     "data": {
      "text/plain": [
       "{'laugh': 'https://madhuratcatcherprivate.blob.core.windows.net/raj/001.jpeg',\n",
       " 'car': 'https://madhuratcatcherprivate.blob.core.windows.net/raj/002.jpeg',\n",
       " 'cat': 'https://madhuratcatcherprivate.blob.core.windows.net/raj/003.jpeg'}"
      ]
     },
     "execution_count": 16,
     "metadata": {},
     "output_type": "execute_result"
    }
   ],
   "source": [
    "baseurl = 'https://madhuratcatcherprivate.blob.core.windows.net/raj/'\n",
    "imgname = ['laugh', 'car','cat']\n",
    "imgurl = {}\n",
    "for i in range(3):\n",
    "  fname =  baseurl + '00' + str(i+1) + '.jpeg'\n",
    "  imgurl[imgname[i]] = fname\n",
    "imgurl"
   ]
  },
  {
   "cell_type": "code",
   "execution_count": 17,
   "id": "52cca224",
   "metadata": {},
   "outputs": [
    {
     "name": "stdout",
     "output_type": "stream",
     "text": [
      "Image = laugh\n",
      "\n",
      "Description of remote image: \n",
      "'Barack Obama wearing a bow tie' with confidence 48.88%\n",
      "****\n",
      "Image = car\n",
      "\n",
      "Description of remote image: \n",
      "'a red sports car' with confidence 63.12%\n",
      "****\n",
      "Image = cat\n",
      "\n",
      "Description of remote image: \n",
      "'a cat with a cartoon face' with confidence 31.70%\n",
      "****\n"
     ]
    }
   ],
   "source": [
    "for imname, imgur in imgurl.items():\n",
    "  description_results = computervision_client.describe_image(imgur)\n",
    "  print('Image = ' + imname)\n",
    "  print()\n",
    "  # Get the captions (descriptions) from the response, with confidence level\n",
    "  print(\"Description of remote image: \")\n",
    "  if (len(description_results.captions) == 0):\n",
    "      print(\"No description detected.\")\n",
    "      print('****')\n",
    "  else:\n",
    "      for caption in description_results.captions:\n",
    "          print(\"'{}' with confidence {:.2f}%\".format(caption.text, caption.confidence * 100))\n",
    "      print('****')"
   ]
  },
  {
   "cell_type": "code",
   "execution_count": 18,
   "id": "77175e91",
   "metadata": {},
   "outputs": [
    {
     "name": "stdout",
     "output_type": "stream",
     "text": [
      "Image = laugh\n",
      "\n",
      "Description of remote image: \n",
      "'Barack Obama wearing a bow tie' with confidence 48.88%\n",
      "****\n",
      "Image = car\n",
      "\n",
      "Description of remote image: \n",
      "'a red sports car' with confidence 63.12%\n",
      "****\n",
      "Image = cat\n",
      "\n",
      "Description of remote image: \n",
      "'a cat with a cartoon face' with confidence 31.70%\n",
      "****\n"
     ]
    }
   ],
   "source": [
    "for imname, imgur in imgurl.items():\n",
    "  description_results = computervision_client.describe_image(imgur)\n",
    "  print('Image = ' + imname)\n",
    "  print()\n",
    "  # Get the captions (descriptions) from the response, with confidence level\n",
    "  print(\"Description of remote image: \")\n",
    "  if (len(description_results.captions) == 0):\n",
    "      print(\"No description detected.\")\n",
    "      print('****')\n",
    "  else:\n",
    "      for caption in description_results.captions:\n",
    "          print(\"'{}' with confidence {:.2f}%\".format(caption.text, caption.confidence * 100))\n",
    "      print('****')"
   ]
  },
  {
   "cell_type": "code",
   "execution_count": 19,
   "id": "bb8ab811",
   "metadata": {},
   "outputs": [
    {
     "name": "stdout",
     "output_type": "stream",
     "text": [
      "laugh\n",
      "Categories from remote image: \n",
      "'people_portrait' with confidence 81.25%\n",
      "*****\n",
      "car\n",
      "Categories from remote image: \n",
      "'abstract_' with confidence 0.39%\n",
      "'others_' with confidence 6.64%\n",
      "'outdoor_' with confidence 2.73%\n",
      "*****\n",
      "cat\n",
      "Categories from remote image: \n",
      "'abstract_nonphoto' with confidence 48.83%\n",
      "'others_' with confidence 0.78%\n",
      "'outdoor_' with confidence 0.39%\n",
      "*****\n"
     ]
    }
   ],
   "source": [
    "for imname, imgur in imgurl.items():\n",
    "\n",
    "  remote_image_features = [\"categories\"]\n",
    "  # Call API with URL and features\n",
    "  try:\n",
    "    categorize_results_remote = computervision_client.analyze_image(imgur , remote_image_features)\n",
    "    print(imname)\n",
    "    # Print results with confidence score\n",
    "    print(\"Categories from remote image: \")\n",
    "    if (len(categorize_results_remote.categories) == 0):\n",
    "        print(\"No categories detected.\")\n",
    "        print('*****')\n",
    "    else:\n",
    "        for category in categorize_results_remote.categories:\n",
    "            print(\"'{}' with confidence {:.2f}%\".format(category.name, category.score * 100))\n",
    "        print('*****')\n",
    "  except:\n",
    "    print('Some random error happened. Move on.')\n",
    "    continue"
   ]
  },
  {
   "cell_type": "code",
   "execution_count": 20,
   "id": "6b3819e2",
   "metadata": {},
   "outputs": [
    {
     "name": "stdout",
     "output_type": "stream",
     "text": [
      "laugh\n",
      "Tags in the remote image: \n",
      "'person' with confidence 99.34%\n",
      "'human face' with confidence 98.12%\n",
      "'clothing' with confidence 97.06%\n",
      "'suit' with confidence 96.83%\n",
      "'formal wear' with confidence 96.13%\n",
      "'smile' with confidence 95.75%\n",
      "'man' with confidence 90.19%\n",
      "'forehead' with confidence 86.75%\n",
      "'bow tie' with confidence 84.96%\n",
      "'gentleman' with confidence 84.57%\n",
      "'senior citizen' with confidence 84.49%\n",
      "'indoor' with confidence 71.27%\n",
      "'wedding' with confidence 57.20%\n",
      "****\n",
      "car\n",
      "Tags in the remote image: \n",
      "'wheel' with confidence 98.98%\n",
      "'outdoor' with confidence 98.47%\n",
      "'tire' with confidence 98.34%\n",
      "'land vehicle' with confidence 96.91%\n",
      "'vehicle' with confidence 96.82%\n",
      "'auto part' with confidence 95.80%\n",
      "'sports car' with confidence 92.67%\n",
      "'transport' with confidence 92.05%\n",
      "'automotive design' with confidence 91.05%\n",
      "'ground' with confidence 89.47%\n",
      "'automotive tire' with confidence 88.52%\n",
      "'supercar' with confidence 87.47%\n",
      "'bumper' with confidence 86.17%\n",
      "'automotive wheel system' with confidence 84.41%\n",
      "'red' with confidence 83.04%\n",
      "'car' with confidence 72.55%\n",
      "'grass' with confidence 71.42%\n",
      "'truck' with confidence 52.44%\n",
      "****\n",
      "cat\n",
      "Tags in the remote image: \n",
      "'clipart' with confidence 96.38%\n",
      "'illustration' with confidence 91.09%\n",
      "'sketch' with confidence 89.36%\n",
      "'cartoon' with confidence 87.62%\n",
      "'drawing' with confidence 86.66%\n",
      "'animated cartoon' with confidence 86.43%\n",
      "'mammal' with confidence 86.20%\n",
      "'cat' with confidence 84.66%\n",
      "'art' with confidence 65.80%\n",
      "****\n"
     ]
    }
   ],
   "source": [
    "for imname, imgur in imgurl.items():\n",
    "\n",
    "  # Call API with remote image\n",
    "  tags_result_remote = computervision_client.tag_image(imgur)\n",
    "  print(imname)\n",
    "  # Print results with confidence score\n",
    "  print(\"Tags in the remote image: \")\n",
    "  if (len(tags_result_remote.tags) == 0):\n",
    "      print(\"No tags detected.\")\n",
    "      print('****')\n",
    "  else:\n",
    "      for tag in tags_result_remote.tags:\n",
    "          print(\"'{}' with confidence {:.2f}%\".format(tag.name, tag.confidence * 100))\n",
    "      print('****')"
   ]
  },
  {
   "cell_type": "code",
   "execution_count": 21,
   "id": "d9623397",
   "metadata": {},
   "outputs": [
    {
     "name": "stdout",
     "output_type": "stream",
     "text": [
      "*****\n",
      "laugh\n",
      "Detecting objects in remote image:\n",
      "object at location 9, 211, 6, 167\n",
      "*****\n",
      "car\n",
      "Detecting objects in remote image:\n",
      "object at location 75, 273, 7, 147\n",
      "*****\n",
      "cat\n",
      "Detecting objects in remote image:\n",
      "No objects detected.\n"
     ]
    }
   ],
   "source": [
    "for imname, imgur in imgurl.items():\n",
    "  detect_objects_results_remote = computervision_client.detect_objects(imgur)\n",
    "  print('*****')\n",
    "  print(imname)\n",
    "  # Print detected objects results with bounding boxes\n",
    "  print(\"Detecting objects in remote image:\")\n",
    "  if len(detect_objects_results_remote.objects) == 0:\n",
    "      print(\"No objects detected.\")\n",
    "  else:\n",
    "      for object in detect_objects_results_remote.objects:\n",
    "          print(\"object at location {}, {}, {}, {}\".format( \\\n",
    "          object.rectangle.x, object.rectangle.x + object.rectangle.w, \\\n",
    "          object.rectangle.y, object.rectangle.y + object.rectangle.h))"
   ]
  },
  {
   "cell_type": "code",
   "execution_count": 22,
   "id": "6d0b4ed4",
   "metadata": {},
   "outputs": [
    {
     "name": "stdout",
     "output_type": "stream",
     "text": [
      "****\n",
      "laugh\n",
      "Faces in the remote image: \n",
      "'Male' of age 53 at location 109, 27, 195, 113\n",
      "****\n",
      "car\n",
      "Faces in the remote image: \n",
      "No faces detected.\n",
      "****\n",
      "cat\n",
      "Faces in the remote image: \n",
      "No faces detected.\n"
     ]
    }
   ],
   "source": [
    "\n",
    "for imgname, imgur in imgurl.items():\n",
    "    \n",
    "  remote_image_url_faces = imgur\n",
    "  # Select the visual feature(s) you want.\n",
    "  remote_image_features = [\"faces\"]\n",
    "  # Call the API with remote URL and features\n",
    "  detect_faces_results_remote = computervision_client.analyze_image(remote_image_url_faces, remote_image_features)\n",
    "  print('****')\n",
    "  print(imgname)\n",
    "  # Print the results with gender, age, and bounding box\n",
    "  print(\"Faces in the remote image: \")\n",
    "  if (len(detect_faces_results_remote.faces) == 0):\n",
    "      print(\"No faces detected.\")\n",
    "  else:\n",
    "      for face in detect_faces_results_remote.faces:\n",
    "          print(\"'{}' of age {} at location {}, {}, {}, {}\".format(face.gender, face.age, \\\n",
    "          face.face_rectangle.left, face.face_rectangle.top, \\\n",
    "          face.face_rectangle.left + face.face_rectangle.width, \\\n",
    "          face.face_rectangle.top + face.face_rectangle.height))"
   ]
  },
  {
   "cell_type": "markdown",
   "id": "b99229a3",
   "metadata": {},
   "source": [
    "# Conclusion \n",
    "        USing the computer vision in Cloud is as simple "
   ]
  }
 ],
 "metadata": {
  "kernelspec": {
   "display_name": "Python 3 (ipykernel)",
   "language": "python",
   "name": "python3"
  },
  "language_info": {
   "codemirror_mode": {
    "name": "ipython",
    "version": 3
   },
   "file_extension": ".py",
   "mimetype": "text/x-python",
   "name": "python",
   "nbconvert_exporter": "python",
   "pygments_lexer": "ipython3",
   "version": "3.10.5"
  }
 },
 "nbformat": 4,
 "nbformat_minor": 5
}
